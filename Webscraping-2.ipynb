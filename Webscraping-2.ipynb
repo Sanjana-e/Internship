{
 "cells": [
  {
   "cell_type": "markdown",
   "metadata": {},
   "source": [
    "Q1: Write a python program to scrape data for “Data Analyst” Job position in “Bangalore” location. You \n",
    "have to scrape the job-title, job-location, company_name, experience_required. You have to scrape first 10 \n",
    "jobs data. "
   ]
  },
  {
   "cell_type": "code",
   "execution_count": null,
   "metadata": {},
   "outputs": [],
   "source": []
  },
  {
   "cell_type": "code",
   "execution_count": 11,
   "metadata": {},
   "outputs": [],
   "source": [
    "import warnings\n",
    "warnings.filterwarnings('ignore')"
   ]
  },
  {
   "cell_type": "code",
   "execution_count": 1,
   "metadata": {},
   "outputs": [
    {
     "name": "stdout",
     "output_type": "stream",
     "text": [
      "Requirement already satisfied: selenium in c:\\users\\sanjana\\anaconda3\\lib\\site-packages (4.1.0)\n",
      "Requirement already satisfied: trio~=0.17 in c:\\users\\sanjana\\anaconda3\\lib\\site-packages (from selenium) (0.19.0)\n",
      "Requirement already satisfied: trio-websocket~=0.9 in c:\\users\\sanjana\\anaconda3\\lib\\site-packages (from selenium) (0.9.2)\n",
      "Requirement already satisfied: urllib3[secure]~=1.26 in c:\\users\\sanjana\\anaconda3\\lib\\site-packages (from selenium) (1.26.7)\n",
      "Requirement already satisfied: sortedcontainers in c:\\users\\sanjana\\anaconda3\\lib\\site-packages (from trio~=0.17->selenium) (2.2.2)\n",
      "Requirement already satisfied: async-generator>=1.9 in c:\\users\\sanjana\\anaconda3\\lib\\site-packages (from trio~=0.17->selenium) (1.10)\n",
      "Requirement already satisfied: cffi>=1.14 in c:\\users\\sanjana\\anaconda3\\lib\\site-packages (from trio~=0.17->selenium) (1.14.0)\n",
      "Requirement already satisfied: sniffio in c:\\users\\sanjana\\anaconda3\\lib\\site-packages (from trio~=0.17->selenium) (1.2.0)\n",
      "Requirement already satisfied: outcome in c:\\users\\sanjana\\anaconda3\\lib\\site-packages (from trio~=0.17->selenium) (1.1.0)\n",
      "Requirement already satisfied: attrs>=19.2.0 in c:\\users\\sanjana\\anaconda3\\lib\\site-packages (from trio~=0.17->selenium) (19.3.0)\n",
      "Requirement already satisfied: idna in c:\\users\\sanjana\\anaconda3\\lib\\site-packages (from trio~=0.17->selenium) (2.10)\n",
      "Requirement already satisfied: pycparser in c:\\users\\sanjana\\anaconda3\\lib\\site-packages (from cffi>=1.14->trio~=0.17->selenium) (2.20)\n",
      "Requirement already satisfied: wsproto>=0.14 in c:\\users\\sanjana\\anaconda3\\lib\\site-packages (from trio-websocket~=0.9->selenium) (1.0.0)\n",
      "Requirement already satisfied: certifi in c:\\users\\sanjana\\anaconda3\\lib\\site-packages (from urllib3[secure]~=1.26->selenium) (2020.6.20)\n",
      "Requirement already satisfied: pyOpenSSL>=0.14 in c:\\users\\sanjana\\anaconda3\\lib\\site-packages (from urllib3[secure]~=1.26->selenium) (19.1.0)\n",
      "Requirement already satisfied: cryptography>=1.3.4 in c:\\users\\sanjana\\anaconda3\\lib\\site-packages (from urllib3[secure]~=1.26->selenium) (2.9.2)\n",
      "Requirement already satisfied: six>=1.4.1 in c:\\users\\sanjana\\anaconda3\\lib\\site-packages (from cryptography>=1.3.4->urllib3[secure]~=1.26->selenium) (1.15.0)\n",
      "Requirement already satisfied: h11<1,>=0.9.0 in c:\\users\\sanjana\\anaconda3\\lib\\site-packages (from wsproto>=0.14->trio-websocket~=0.9->selenium) (0.12.0)\n"
     ]
    },
    {
     "name": "stderr",
     "output_type": "stream",
     "text": [
      "WARNING: You are using pip version 21.2.3; however, version 21.3.1 is available.\n",
      "You should consider upgrading via the 'c:\\users\\sanjana\\anaconda3\\python.exe -m pip install --upgrade pip' command.\n"
     ]
    }
   ],
   "source": [
    "!pip install selenium"
   ]
  },
  {
   "cell_type": "code",
   "execution_count": 2,
   "metadata": {},
   "outputs": [],
   "source": [
    "import selenium \n",
    "import pandas as pd\n",
    "from selenium import webdriver"
   ]
  },
  {
   "cell_type": "code",
   "execution_count": 12,
   "metadata": {},
   "outputs": [],
   "source": [
    "drivers= webdriver.Chrome(r\"C:\\Users\\Sanjana\\Downloads\\chromedriver_win32\\chromedriver.exe\")"
   ]
  },
  {
   "cell_type": "code",
   "execution_count": 13,
   "metadata": {},
   "outputs": [],
   "source": [
    "drivers.get(\"https://www.naukri.com/\")"
   ]
  },
  {
   "cell_type": "code",
   "execution_count": 14,
   "metadata": {},
   "outputs": [],
   "source": [
    "#Input Search\n",
    "search_job=drivers.find_element_by_xpath('//input[@id=\"qsb-keyword-sugg\"]')\n",
    "search_job.send_keys(\"Data Analyst\")\n",
    "search_loc=drivers.find_element_by_xpath('//input[@id=\"qsb-location-sugg\"]')\n",
    "search_loc.send_keys(\"Bangalore\")"
   ]
  },
  {
   "cell_type": "code",
   "execution_count": 15,
   "metadata": {},
   "outputs": [],
   "source": [
    "#Clicking Search Button\n",
    "search_btn=drivers.find_element_by_xpath('//*[@id=\"root\"]/div[3]/div[2]/section/div/form/div[3]/button')\n",
    "search_btn.click()"
   ]
  },
  {
   "cell_type": "code",
   "execution_count": 20,
   "metadata": {},
   "outputs": [],
   "source": [
    "Job_Title = []\n",
    "Job_Loc= []\n",
    "Company= []\n",
    "Experience_Required = []\n",
    "job_tags=drivers.find_elements_by_xpath('//a[@class=\"title fw500 ellipsis\"]')\n",
    "loc_tags=drivers.find_elements_by_xpath('//li[@class=\"fleft grey-text br2 placeHolderLi location\"]/span[1]')\n",
    "company_tags=drivers.find_elements_by_xpath('//a[@class=\"subTitle ellipsis fleft\"]')\n",
    "experience_tags=drivers.find_elements_by_xpath('//li[@class=\"fleft grey-text br2 placeHolderLi experience\"]/span[1]')\n",
    "for i in job_tags[0:10]:\n",
    "     Job_Title.append(i.text)\n",
    "for i in loc_tags[0:10]:\n",
    "     Job_Loc.append(i.text)\n",
    "for i in company_tags[0:10]:\n",
    "     Company.append(i.text)\n",
    "for i in experience_tags[0:10]:\n",
    "     Experience_Required.append(i.text)"
   ]
  },
  {
   "cell_type": "code",
   "execution_count": 21,
   "metadata": {},
   "outputs": [],
   "source": [
    "data= list(zip(Job_Title,Job_Loc,Company,Experience_Required))"
   ]
  },
  {
   "cell_type": "code",
   "execution_count": 22,
   "metadata": {},
   "outputs": [],
   "source": [
    "df= pd.DataFrame(data,columns=[\"Job_Title\",\"Job_Loc\",\"Company\",\"Experience_Required\"])"
   ]
  },
  {
   "cell_type": "code",
   "execution_count": 23,
   "metadata": {},
   "outputs": [
    {
     "data": {
      "text/html": [
       "<div>\n",
       "<style scoped>\n",
       "    .dataframe tbody tr th:only-of-type {\n",
       "        vertical-align: middle;\n",
       "    }\n",
       "\n",
       "    .dataframe tbody tr th {\n",
       "        vertical-align: top;\n",
       "    }\n",
       "\n",
       "    .dataframe thead th {\n",
       "        text-align: right;\n",
       "    }\n",
       "</style>\n",
       "<table border=\"1\" class=\"dataframe\">\n",
       "  <thead>\n",
       "    <tr style=\"text-align: right;\">\n",
       "      <th></th>\n",
       "      <th>Job_Title</th>\n",
       "      <th>Job_Loc</th>\n",
       "      <th>Company</th>\n",
       "      <th>Experience_Required</th>\n",
       "    </tr>\n",
       "  </thead>\n",
       "  <tbody>\n",
       "    <tr>\n",
       "      <th>0</th>\n",
       "      <td>Senior Data Analyst</td>\n",
       "      <td>Bengaluru/Bangalore</td>\n",
       "      <td>Flipkart</td>\n",
       "      <td>4-5 Yrs</td>\n",
       "    </tr>\n",
       "    <tr>\n",
       "      <th>1</th>\n",
       "      <td>Data Analyst (On Contract)</td>\n",
       "      <td>Bangalore/Bengaluru</td>\n",
       "      <td>Rupeek Fintech Pvt Ltd</td>\n",
       "      <td>0-2 Yrs</td>\n",
       "    </tr>\n",
       "    <tr>\n",
       "      <th>2</th>\n",
       "      <td>Jr . Data Analyst</td>\n",
       "      <td>Bangalore/Bengaluru</td>\n",
       "      <td>Armorblox</td>\n",
       "      <td>0-2 Yrs</td>\n",
       "    </tr>\n",
       "    <tr>\n",
       "      <th>3</th>\n",
       "      <td>Business Analyst / Data Analyst</td>\n",
       "      <td>Bangalore/Bengaluru</td>\n",
       "      <td>GetSimpl</td>\n",
       "      <td>2-4 Yrs</td>\n",
       "    </tr>\n",
       "    <tr>\n",
       "      <th>4</th>\n",
       "      <td>Hiring Business Data Analyst +ETL- Tech Mahind...</td>\n",
       "      <td>Bangalore/Bengaluru</td>\n",
       "      <td>Tech Mahindra</td>\n",
       "      <td>6-10 Yrs</td>\n",
       "    </tr>\n",
       "    <tr>\n",
       "      <th>5</th>\n",
       "      <td>Data Analyst</td>\n",
       "      <td>Bengaluru/Bangalore</td>\n",
       "      <td>IBM India Pvt. Limited</td>\n",
       "      <td>1-4 Yrs</td>\n",
       "    </tr>\n",
       "    <tr>\n",
       "      <th>6</th>\n",
       "      <td>Consultant - Data Analyst</td>\n",
       "      <td>Bengaluru/Bangalore</td>\n",
       "      <td>Flipkart</td>\n",
       "      <td>1-3 Yrs</td>\n",
       "    </tr>\n",
       "    <tr>\n",
       "      <th>7</th>\n",
       "      <td>Data Analyst</td>\n",
       "      <td>Bengaluru/Bangalore</td>\n",
       "      <td>Flipkart</td>\n",
       "      <td>1-2 Yrs</td>\n",
       "    </tr>\n",
       "    <tr>\n",
       "      <th>8</th>\n",
       "      <td>Data Analyst</td>\n",
       "      <td>Bengaluru/Bangalore</td>\n",
       "      <td>Flipkart</td>\n",
       "      <td>1-3 Yrs</td>\n",
       "    </tr>\n",
       "    <tr>\n",
       "      <th>9</th>\n",
       "      <td>Manager - Data Analyst</td>\n",
       "      <td>Bangalore/Bengaluru</td>\n",
       "      <td>Genpact</td>\n",
       "      <td>5-10 Yrs</td>\n",
       "    </tr>\n",
       "  </tbody>\n",
       "</table>\n",
       "</div>"
      ],
      "text/plain": [
       "                                           Job_Title              Job_Loc  \\\n",
       "0                                Senior Data Analyst  Bengaluru/Bangalore   \n",
       "1                         Data Analyst (On Contract)  Bangalore/Bengaluru   \n",
       "2                                  Jr . Data Analyst  Bangalore/Bengaluru   \n",
       "3                    Business Analyst / Data Analyst  Bangalore/Bengaluru   \n",
       "4  Hiring Business Data Analyst +ETL- Tech Mahind...  Bangalore/Bengaluru   \n",
       "5                                       Data Analyst  Bengaluru/Bangalore   \n",
       "6                          Consultant - Data Analyst  Bengaluru/Bangalore   \n",
       "7                                       Data Analyst  Bengaluru/Bangalore   \n",
       "8                                       Data Analyst  Bengaluru/Bangalore   \n",
       "9                             Manager - Data Analyst  Bangalore/Bengaluru   \n",
       "\n",
       "                  Company Experience_Required  \n",
       "0                Flipkart             4-5 Yrs  \n",
       "1  Rupeek Fintech Pvt Ltd             0-2 Yrs  \n",
       "2               Armorblox             0-2 Yrs  \n",
       "3                GetSimpl             2-4 Yrs  \n",
       "4           Tech Mahindra            6-10 Yrs  \n",
       "5  IBM India Pvt. Limited             1-4 Yrs  \n",
       "6                Flipkart             1-3 Yrs  \n",
       "7                Flipkart             1-2 Yrs  \n",
       "8                Flipkart             1-3 Yrs  \n",
       "9                 Genpact            5-10 Yrs  "
      ]
     },
     "execution_count": 23,
     "metadata": {},
     "output_type": "execute_result"
    }
   ],
   "source": [
    "df"
   ]
  },
  {
   "cell_type": "markdown",
   "metadata": {},
   "source": [
    "Q2: Write a python program to scrape data for “Data Scientist” Job position in “Bangalore” location. You \n",
    "have to scrape the job-title, job-location, company_name. You have to scrape first 10 jobs data. "
   ]
  },
  {
   "cell_type": "code",
   "execution_count": 24,
   "metadata": {},
   "outputs": [],
   "source": [
    "drivers.get(\"https://www.naukri.com/\")"
   ]
  },
  {
   "cell_type": "code",
   "execution_count": 25,
   "metadata": {},
   "outputs": [],
   "source": [
    "#Input Search\n",
    "search_job=drivers.find_element_by_xpath('//input[@id=\"qsb-keyword-sugg\"]')\n",
    "search_job.send_keys(\"Data Scientist\")\n",
    "search_loc=drivers.find_element_by_xpath('//input[@id=\"qsb-location-sugg\"]')\n",
    "search_loc.send_keys(\"Bangalore\")"
   ]
  },
  {
   "cell_type": "code",
   "execution_count": 26,
   "metadata": {},
   "outputs": [],
   "source": [
    "#Click Search Button\n",
    "search_btn=drivers.find_element_by_xpath('//*[@id=\"root\"]/div[3]/div[2]/section/div/form/div[3]/button')\n",
    "search_btn.click()"
   ]
  },
  {
   "cell_type": "code",
   "execution_count": 27,
   "metadata": {},
   "outputs": [],
   "source": [
    "Job_Title = []\n",
    "Job_Loc= []\n",
    "Company= []\n",
    "\n",
    "job_tags=drivers.find_elements_by_xpath('//a[@class=\"title fw500 ellipsis\"]')\n",
    "loc_tags=drivers.find_elements_by_xpath('//li[@class=\"fleft grey-text br2 placeHolderLi location\"]/span[1]')\n",
    "company_tags=drivers.find_elements_by_xpath('//a[@class=\"subTitle ellipsis fleft\"]')\n",
    "for i in job_tags[0:10]:\n",
    "     Job_Title.append(i.text)\n",
    "for i in loc_tags[0:10]:\n",
    "     Job_Loc.append(i.text)\n",
    "for i in company_tags[0:10]:\n",
    "     Company.append(i.text)"
   ]
  },
  {
   "cell_type": "code",
   "execution_count": 28,
   "metadata": {},
   "outputs": [],
   "source": [
    "from selenium.common.exceptions import NoSuchElementException\n",
    "JD_url=drivers.find_elements_by_xpath('//a[@class=\"title fw500 ellipsis\"]')\n",
    "Job_Description = []\n",
    "URL=[]\n",
    "for i in JD_url[0:10]:\n",
    "    URL.append(i.get_attribute('href'))\n",
    "for url in URL:\n",
    "    drivers.get(url)\n",
    "    try:\n",
    "        jd=drivers.find_element_by_xpath('//div[@class=\"dang-inner-html\"]')\n",
    "        Job_Description.append(jd.text)\n",
    "    except NoSuchElementException as e:\n",
    "        Job_Description.append(\"No Discription\")"
   ]
  },
  {
   "cell_type": "code",
   "execution_count": 30,
   "metadata": {},
   "outputs": [
    {
     "name": "stdout",
     "output_type": "stream",
     "text": [
      "10\n"
     ]
    }
   ],
   "source": [
    "print(len(Job_Description))"
   ]
  },
  {
   "cell_type": "code",
   "execution_count": 31,
   "metadata": {},
   "outputs": [],
   "source": [
    "data= list(zip(Job_Title,Job_Loc,Company,Job_Description))"
   ]
  },
  {
   "cell_type": "code",
   "execution_count": 32,
   "metadata": {},
   "outputs": [],
   "source": [
    "df= pd.DataFrame(data,columns=[\"Job_Title\",\"Job_Loc\",\"Company\",\"Job_Description\"])"
   ]
  },
  {
   "cell_type": "code",
   "execution_count": 33,
   "metadata": {},
   "outputs": [
    {
     "data": {
      "text/html": [
       "<div>\n",
       "<style scoped>\n",
       "    .dataframe tbody tr th:only-of-type {\n",
       "        vertical-align: middle;\n",
       "    }\n",
       "\n",
       "    .dataframe tbody tr th {\n",
       "        vertical-align: top;\n",
       "    }\n",
       "\n",
       "    .dataframe thead th {\n",
       "        text-align: right;\n",
       "    }\n",
       "</style>\n",
       "<table border=\"1\" class=\"dataframe\">\n",
       "  <thead>\n",
       "    <tr style=\"text-align: right;\">\n",
       "      <th></th>\n",
       "      <th>Job_Title</th>\n",
       "      <th>Job_Loc</th>\n",
       "      <th>Company</th>\n",
       "      <th>Job_Description</th>\n",
       "    </tr>\n",
       "  </thead>\n",
       "  <tbody>\n",
       "    <tr>\n",
       "      <th>0</th>\n",
       "      <td>Senior Engineer - AIML - Data Scientist</td>\n",
       "      <td>Bangalore/Bengaluru</td>\n",
       "      <td>Unisys</td>\n",
       "      <td>Our Core Beliefs:\\nCuriosity: We embrace the...</td>\n",
       "    </tr>\n",
       "    <tr>\n",
       "      <th>1</th>\n",
       "      <td>Cognitive/AI Senior Data Scientist</td>\n",
       "      <td>Bengaluru/Bangalore</td>\n",
       "      <td>IBM India Pvt. Limited</td>\n",
       "      <td>No Discription</td>\n",
       "    </tr>\n",
       "    <tr>\n",
       "      <th>2</th>\n",
       "      <td>Lead Programmer - Data Scientist</td>\n",
       "      <td>Bangalore/Bengaluru</td>\n",
       "      <td>GlaxoSmithKline Pharmaceuticals Limited</td>\n",
       "      <td>No Discription</td>\n",
       "    </tr>\n",
       "    <tr>\n",
       "      <th>3</th>\n",
       "      <td>Senior Data Scientist</td>\n",
       "      <td>Bangalore/Bengaluru</td>\n",
       "      <td>Juniper Networks</td>\n",
       "      <td>Role/Position\\nThe Senior Data Scientist will ...</td>\n",
       "    </tr>\n",
       "    <tr>\n",
       "      <th>4</th>\n",
       "      <td>Lead/Senior Data Scientist (NLP)</td>\n",
       "      <td>Bangalore/Bengaluru</td>\n",
       "      <td>Samya.AI A FRACTAL Entity</td>\n",
       "      <td>Roles and Responsibilities\\nTrain machine lear...</td>\n",
       "    </tr>\n",
       "    <tr>\n",
       "      <th>5</th>\n",
       "      <td>Data Scientist: Advanced Analytics</td>\n",
       "      <td>Bangalore/Bengaluru</td>\n",
       "      <td>IBM India Pvt. Limited</td>\n",
       "      <td>No Discription</td>\n",
       "    </tr>\n",
       "    <tr>\n",
       "      <th>6</th>\n",
       "      <td>Data Scientist: Artificial Intelligence</td>\n",
       "      <td>Bangalore/Bengaluru</td>\n",
       "      <td>IBM India Pvt. Limited</td>\n",
       "      <td>No Discription</td>\n",
       "    </tr>\n",
       "    <tr>\n",
       "      <th>7</th>\n",
       "      <td>Senior Data Scientist</td>\n",
       "      <td>Bangalore/Bengaluru</td>\n",
       "      <td>Ericsson Global Services</td>\n",
       "      <td>You will\\nDefine the Data sourcing strategy an...</td>\n",
       "    </tr>\n",
       "    <tr>\n",
       "      <th>8</th>\n",
       "      <td>Senior Data Scientist Analytics</td>\n",
       "      <td>Bangalore/Bengaluru</td>\n",
       "      <td>ExecBoardinAsia</td>\n",
       "      <td>Understanding the business problem alongside b...</td>\n",
       "    </tr>\n",
       "    <tr>\n",
       "      <th>9</th>\n",
       "      <td>Senior Staff Data Scientist</td>\n",
       "      <td>Bangalore/Bengaluru</td>\n",
       "      <td>FabHotel Aay Kay Model Town</td>\n",
       "      <td>As a Sr Staff Data Scientist, you will be resp...</td>\n",
       "    </tr>\n",
       "  </tbody>\n",
       "</table>\n",
       "</div>"
      ],
      "text/plain": [
       "                                 Job_Title              Job_Loc  \\\n",
       "0  Senior Engineer - AIML - Data Scientist  Bangalore/Bengaluru   \n",
       "1       Cognitive/AI Senior Data Scientist  Bengaluru/Bangalore   \n",
       "2         Lead Programmer - Data Scientist  Bangalore/Bengaluru   \n",
       "3                    Senior Data Scientist  Bangalore/Bengaluru   \n",
       "4         Lead/Senior Data Scientist (NLP)  Bangalore/Bengaluru   \n",
       "5       Data Scientist: Advanced Analytics  Bangalore/Bengaluru   \n",
       "6  Data Scientist: Artificial Intelligence  Bangalore/Bengaluru   \n",
       "7                    Senior Data Scientist  Bangalore/Bengaluru   \n",
       "8          Senior Data Scientist Analytics  Bangalore/Bengaluru   \n",
       "9              Senior Staff Data Scientist  Bangalore/Bengaluru   \n",
       "\n",
       "                                   Company  \\\n",
       "0                                   Unisys   \n",
       "1                   IBM India Pvt. Limited   \n",
       "2  GlaxoSmithKline Pharmaceuticals Limited   \n",
       "3                         Juniper Networks   \n",
       "4                Samya.AI A FRACTAL Entity   \n",
       "5                   IBM India Pvt. Limited   \n",
       "6                   IBM India Pvt. Limited   \n",
       "7                 Ericsson Global Services   \n",
       "8                          ExecBoardinAsia   \n",
       "9              FabHotel Aay Kay Model Town   \n",
       "\n",
       "                                     Job_Description  \n",
       "0    Our Core Beliefs:\\nCuriosity: We embrace the...  \n",
       "1                                     No Discription  \n",
       "2                                     No Discription  \n",
       "3  Role/Position\\nThe Senior Data Scientist will ...  \n",
       "4  Roles and Responsibilities\\nTrain machine lear...  \n",
       "5                                     No Discription  \n",
       "6                                     No Discription  \n",
       "7  You will\\nDefine the Data sourcing strategy an...  \n",
       "8  Understanding the business problem alongside b...  \n",
       "9  As a Sr Staff Data Scientist, you will be resp...  "
      ]
     },
     "execution_count": 33,
     "metadata": {},
     "output_type": "execute_result"
    }
   ],
   "source": [
    "df"
   ]
  },
  {
   "cell_type": "markdown",
   "metadata": {},
   "source": [
    "Q3: In this question you have to scrape data using the filters available on the webpage as shown below:\n",
    "You have to use the location and salary filter. \n",
    "You have to scrape data for “Data Scientist” designation for first 10 job results. \n",
    "You have to scrape the job-title, job-location, company name, experience required. \n",
    "The location filter to be used is “Delhi/NCR” The salary filter to be used is “3-6” lakhs"
   ]
  },
  {
   "cell_type": "code",
   "execution_count": 88,
   "metadata": {},
   "outputs": [],
   "source": [
    "drivers.get(\"https://www.naukri.com/\")"
   ]
  },
  {
   "cell_type": "code",
   "execution_count": 89,
   "metadata": {},
   "outputs": [],
   "source": [
    "#Input Search\n",
    "search_job=drivers.find_element_by_xpath('//input[@id=\"qsb-keyword-sugg\"]')\n",
    "search_job.send_keys(\"Data Scientist\")\n",
    "search_loc=drivers.find_element_by_xpath('//input[@id=\"qsb-location-sugg\"]')\n",
    "search_loc.send_keys(\"Delhi\")"
   ]
  },
  {
   "cell_type": "code",
   "execution_count": 90,
   "metadata": {},
   "outputs": [],
   "source": [
    "#Click Search Button\n",
    "search_btn=drivers.find_element_by_xpath('//*[@id=\"root\"]/div[3]/div[2]/section/div/form/div[3]/button')\n",
    "search_btn.click()"
   ]
  },
  {
   "cell_type": "code",
   "execution_count": 48,
   "metadata": {},
   "outputs": [],
   "source": [
    "url=\"https://www.naukri.com/data-scientist-jobs-in-delhi-ncr?k=data%20scientist&l=delhi%2Fncr\""
   ]
  },
  {
   "cell_type": "code",
   "execution_count": 50,
   "metadata": {},
   "outputs": [],
   "source": [
    "drivers.get(url)"
   ]
  },
  {
   "cell_type": "code",
   "execution_count": 91,
   "metadata": {},
   "outputs": [],
   "source": [
    "checkbox_city = drivers.find_element_by_xpath('//*[@id=\"root\"]/div[3]/div[2]/section[1]/div[2]/div[3]/div[2]/div[2]/label/i')"
   ]
  },
  {
   "cell_type": "code",
   "execution_count": 92,
   "metadata": {},
   "outputs": [],
   "source": [
    "checkbox_city.click()"
   ]
  },
  {
   "cell_type": "code",
   "execution_count": null,
   "metadata": {},
   "outputs": [],
   "source": [
    "#('//*[@id=\"root\"]/div[3]/div[2]/section[1]/div[2]/div[2]/div[2]/div[3]/label/i')\n",
    "checkbox_city.click()"
   ]
  },
  {
   "cell_type": "code",
   "execution_count": 95,
   "metadata": {},
   "outputs": [],
   "source": [
    "checkbox_sal = drivers.find_element_by_xpath('//*[@id=\"root\"]/div[3]/div[2]/section[1]/div[2]/div[4]/div[2]/div[2]/label/i')"
   ]
  },
  {
   "cell_type": "code",
   "execution_count": 96,
   "metadata": {},
   "outputs": [],
   "source": [
    "checkbox_sal.click()"
   ]
  },
  {
   "cell_type": "code",
   "execution_count": 97,
   "metadata": {},
   "outputs": [],
   "source": [
    "Job_Title = []\n",
    "Job_Loc= []\n",
    "Company= []\n",
    "Experience_Required = []\n",
    "job_tags=drivers.find_elements_by_xpath('//a[@class=\"title fw500 ellipsis\"]')\n",
    "loc_tags=drivers.find_elements_by_xpath('//li[@class=\"fleft grey-text br2 placeHolderLi location\"]/span[1]')\n",
    "company_tags=drivers.find_elements_by_xpath('//a[@class=\"subTitle ellipsis fleft\"]')\n",
    "experience_tags=drivers.find_elements_by_xpath('//li[@class=\"fleft grey-text br2 placeHolderLi experience\"]/span[1]')\n",
    "for i in job_tags[0:10]:\n",
    "     Job_Title.append(i.text)\n",
    "for i in loc_tags[0:10]:\n",
    "     Job_Loc.append(i.text)\n",
    "for i in company_tags[0:10]:\n",
    "     Company.append(i.text)\n",
    "for i in experience_tags[0:10]:\n",
    "     Experience_Required.append(i.text)"
   ]
  },
  {
   "cell_type": "code",
   "execution_count": 98,
   "metadata": {},
   "outputs": [],
   "source": [
    "data= list(zip(Job_Title,Job_Loc,Company,Experience_Required))"
   ]
  },
  {
   "cell_type": "code",
   "execution_count": 99,
   "metadata": {},
   "outputs": [],
   "source": [
    "df_delhi= pd.DataFrame(data,columns=[\"Job_Title\",\"Job_Loc\",\"Company\",\"Experience_Required\"])"
   ]
  },
  {
   "cell_type": "code",
   "execution_count": 100,
   "metadata": {},
   "outputs": [
    {
     "data": {
      "text/html": [
       "<div>\n",
       "<style scoped>\n",
       "    .dataframe tbody tr th:only-of-type {\n",
       "        vertical-align: middle;\n",
       "    }\n",
       "\n",
       "    .dataframe tbody tr th {\n",
       "        vertical-align: top;\n",
       "    }\n",
       "\n",
       "    .dataframe thead th {\n",
       "        text-align: right;\n",
       "    }\n",
       "</style>\n",
       "<table border=\"1\" class=\"dataframe\">\n",
       "  <thead>\n",
       "    <tr style=\"text-align: right;\">\n",
       "      <th></th>\n",
       "      <th>Job_Title</th>\n",
       "      <th>Job_Loc</th>\n",
       "      <th>Company</th>\n",
       "      <th>Experience_Required</th>\n",
       "    </tr>\n",
       "  </thead>\n",
       "  <tbody>\n",
       "    <tr>\n",
       "      <th>0</th>\n",
       "      <td>Project Manager | Team Leader | Senior Data Sc...</td>\n",
       "      <td>Remote</td>\n",
       "      <td>Tidyquant (OPC) Private Limited</td>\n",
       "      <td>1-5 Yrs</td>\n",
       "    </tr>\n",
       "    <tr>\n",
       "      <th>1</th>\n",
       "      <td>Data Scientist/ Senior Data Scientist</td>\n",
       "      <td>Noida</td>\n",
       "      <td>Newgen Software Technologies</td>\n",
       "      <td>2-5 Yrs</td>\n",
       "    </tr>\n",
       "    <tr>\n",
       "      <th>2</th>\n",
       "      <td>NTT DATA_ Hiring For BIG DATA ,DATA Scientist,...</td>\n",
       "      <td>Noida, Kolkata, Hyderabad/Secunderabad, Ahmeda...</td>\n",
       "      <td>NTT Data Business Solutions Pvt Ltd</td>\n",
       "      <td>3-8 Yrs</td>\n",
       "    </tr>\n",
       "    <tr>\n",
       "      <th>3</th>\n",
       "      <td>Hiring For Data Scientist</td>\n",
       "      <td>Hyderabad/Secunderabad, Pune, Chennai, Bangalo...</td>\n",
       "      <td>Tata Consultancy Services Ltd.</td>\n",
       "      <td>4-9 Yrs</td>\n",
       "    </tr>\n",
       "    <tr>\n",
       "      <th>4</th>\n",
       "      <td>Data Scientist</td>\n",
       "      <td>Gurgaon/Gurugram, Chennai</td>\n",
       "      <td>Teleperformance</td>\n",
       "      <td>4-9 Yrs</td>\n",
       "    </tr>\n",
       "    <tr>\n",
       "      <th>5</th>\n",
       "      <td>Hiring For Data Analyst / Data Scientist</td>\n",
       "      <td>Noida(Sector-59 Noida)</td>\n",
       "      <td>Careerera</td>\n",
       "      <td>1-3 Yrs</td>\n",
       "    </tr>\n",
       "    <tr>\n",
       "      <th>6</th>\n",
       "      <td>Data Analyst / Data Scientist / Business Analy...</td>\n",
       "      <td>Noida, Ghaziabad, Delhi / NCR</td>\n",
       "      <td>GABA Consultancy services</td>\n",
       "      <td>0-0 Yrs</td>\n",
       "    </tr>\n",
       "    <tr>\n",
       "      <th>7</th>\n",
       "      <td>Data Scientist</td>\n",
       "      <td>Gurgaon/Gurugram</td>\n",
       "      <td>ApplyBoard</td>\n",
       "      <td>3-7 Yrs</td>\n",
       "    </tr>\n",
       "    <tr>\n",
       "      <th>8</th>\n",
       "      <td>Data Scientist</td>\n",
       "      <td>Gurgaon/Gurugram</td>\n",
       "      <td>Whizhack Technologies pvt ltd</td>\n",
       "      <td>2-5 Yrs</td>\n",
       "    </tr>\n",
       "    <tr>\n",
       "      <th>9</th>\n",
       "      <td>Data Scientist</td>\n",
       "      <td>Gurgaon/Gurugram</td>\n",
       "      <td>One Mobikwik Systems Private Limited</td>\n",
       "      <td>2-5 Yrs</td>\n",
       "    </tr>\n",
       "  </tbody>\n",
       "</table>\n",
       "</div>"
      ],
      "text/plain": [
       "                                           Job_Title  \\\n",
       "0  Project Manager | Team Leader | Senior Data Sc...   \n",
       "1              Data Scientist/ Senior Data Scientist   \n",
       "2  NTT DATA_ Hiring For BIG DATA ,DATA Scientist,...   \n",
       "3                          Hiring For Data Scientist   \n",
       "4                                     Data Scientist   \n",
       "5           Hiring For Data Analyst / Data Scientist   \n",
       "6  Data Analyst / Data Scientist / Business Analy...   \n",
       "7                                     Data Scientist   \n",
       "8                                     Data Scientist   \n",
       "9                                     Data Scientist   \n",
       "\n",
       "                                             Job_Loc  \\\n",
       "0                                             Remote   \n",
       "1                                              Noida   \n",
       "2  Noida, Kolkata, Hyderabad/Secunderabad, Ahmeda...   \n",
       "3  Hyderabad/Secunderabad, Pune, Chennai, Bangalo...   \n",
       "4                          Gurgaon/Gurugram, Chennai   \n",
       "5                             Noida(Sector-59 Noida)   \n",
       "6                      Noida, Ghaziabad, Delhi / NCR   \n",
       "7                                   Gurgaon/Gurugram   \n",
       "8                                   Gurgaon/Gurugram   \n",
       "9                                   Gurgaon/Gurugram   \n",
       "\n",
       "                                Company Experience_Required  \n",
       "0       Tidyquant (OPC) Private Limited             1-5 Yrs  \n",
       "1          Newgen Software Technologies             2-5 Yrs  \n",
       "2   NTT Data Business Solutions Pvt Ltd             3-8 Yrs  \n",
       "3        Tata Consultancy Services Ltd.             4-9 Yrs  \n",
       "4                       Teleperformance             4-9 Yrs  \n",
       "5                             Careerera             1-3 Yrs  \n",
       "6             GABA Consultancy services             0-0 Yrs  \n",
       "7                            ApplyBoard             3-7 Yrs  \n",
       "8         Whizhack Technologies pvt ltd             2-5 Yrs  \n",
       "9  One Mobikwik Systems Private Limited             2-5 Yrs  "
      ]
     },
     "execution_count": 100,
     "metadata": {},
     "output_type": "execute_result"
    }
   ],
   "source": [
    "df_delhi"
   ]
  },
  {
   "cell_type": "markdown",
   "metadata": {},
   "source": [
    "Q4: Scrape data of first 100 sunglasses listings on flipkart.com. You have to scrape four attributes: \n",
    "1. Brand \n",
    "2. Product Description \n",
    "3. Price"
   ]
  },
  {
   "cell_type": "code",
   "execution_count": 130,
   "metadata": {},
   "outputs": [],
   "source": [
    "drivers.get(\"https://www.flipkart.com/\")"
   ]
  },
  {
   "cell_type": "code",
   "execution_count": 131,
   "metadata": {},
   "outputs": [],
   "source": [
    "#Input Search\n",
    "search_item=drivers.find_element_by_xpath('//input[@class=\"_3704LK\"]')\n",
    "search_item.send_keys(\"Sunglasses\")\n",
    "\n",
    "#Click Search Button\n",
    "search_btn=drivers.find_element_by_xpath('//*[@id=\"container\"]/div/div[1]/div[1]/div[2]/div[2]/form/div/button')\n",
    "search_btn.click()"
   ]
  },
  {
   "cell_type": "code",
   "execution_count": 132,
   "metadata": {},
   "outputs": [],
   "source": [
    "Brand= []\n",
    "Description = []\n",
    "Price= []"
   ]
  },
  {
   "cell_type": "code",
   "execution_count": 151,
   "metadata": {},
   "outputs": [],
   "source": [
    "j=1\n",
    "while j<=3:\n",
    "        brand_tags=drivers.find_elements_by_xpath('//div[@class=\"_2WkVRV\"]')\n",
    "        desc_tags=drivers.find_elements_by_xpath('//a[@class=\"IRpwTa\"]')\n",
    "        price_tags=drivers.find_elements_by_xpath('//div[@class=\"_30jeq3\"]')\n",
    "\n",
    "        for i in brand_tags:\n",
    "                Brand.append(i.text)   \n",
    "        for i in desc_tags:\n",
    "                Description.append(i.text.replace('(57)',''))   \n",
    "        for i in price_tags:\n",
    "             Price.append(i.text)  "
   ]
  },
  {
   "cell_type": "code",
   "execution_count": 152,
   "metadata": {},
   "outputs": [],
   "source": [
    "data= list(zip(Brand,Description,Price))"
   ]
  },
  {
   "cell_type": "code",
   "execution_count": 153,
   "metadata": {},
   "outputs": [],
   "source": [
    "df_FlipKart= pd.DataFrame(data,columns=[\"Brand\",\"Description\",\"Price\"])"
   ]
  },
  {
   "cell_type": "code",
   "execution_count": 155,
   "metadata": {},
   "outputs": [
    {
     "data": {
      "text/html": [
       "<div>\n",
       "<style scoped>\n",
       "    .dataframe tbody tr th:only-of-type {\n",
       "        vertical-align: middle;\n",
       "    }\n",
       "\n",
       "    .dataframe tbody tr th {\n",
       "        vertical-align: top;\n",
       "    }\n",
       "\n",
       "    .dataframe thead th {\n",
       "        text-align: right;\n",
       "    }\n",
       "</style>\n",
       "<table border=\"1\" class=\"dataframe\">\n",
       "  <thead>\n",
       "    <tr style=\"text-align: right;\">\n",
       "      <th></th>\n",
       "      <th>Brand</th>\n",
       "      <th>Description</th>\n",
       "      <th>Price</th>\n",
       "    </tr>\n",
       "  </thead>\n",
       "  <tbody>\n",
       "    <tr>\n",
       "      <th>0</th>\n",
       "      <td>GANSTA</td>\n",
       "      <td>UV Protection Aviator Sunglasses</td>\n",
       "      <td>₹594</td>\n",
       "    </tr>\n",
       "    <tr>\n",
       "      <th>1</th>\n",
       "      <td>GANSTA</td>\n",
       "      <td>UV Protection, Gradient Aviator Sunglasses (Fr...</td>\n",
       "      <td>₹179</td>\n",
       "    </tr>\n",
       "    <tr>\n",
       "      <th>2</th>\n",
       "      <td>NuVew</td>\n",
       "      <td>UV Protection, Mirrored, Night Vision, Riding ...</td>\n",
       "      <td>₹188</td>\n",
       "    </tr>\n",
       "    <tr>\n",
       "      <th>3</th>\n",
       "      <td>FARENHEIT</td>\n",
       "      <td>UV Protection Round Sunglasses (47)</td>\n",
       "      <td>₹248</td>\n",
       "    </tr>\n",
       "    <tr>\n",
       "      <th>4</th>\n",
       "      <td>ROYAL SON</td>\n",
       "      <td>UV Protection Rectangular Sunglasses (60)</td>\n",
       "      <td>₹200</td>\n",
       "    </tr>\n",
       "    <tr>\n",
       "      <th>...</th>\n",
       "      <td>...</td>\n",
       "      <td>...</td>\n",
       "      <td>...</td>\n",
       "    </tr>\n",
       "    <tr>\n",
       "      <th>95</th>\n",
       "      <td>ROYAL SON</td>\n",
       "      <td>Mirrored Wayfarer Sunglasses (55)</td>\n",
       "      <td>₹429</td>\n",
       "    </tr>\n",
       "    <tr>\n",
       "      <th>96</th>\n",
       "      <td>Fastrack</td>\n",
       "      <td>Mirrored, UV Protection Aviator Sunglasses (Fr...</td>\n",
       "      <td>₹401</td>\n",
       "    </tr>\n",
       "    <tr>\n",
       "      <th>97</th>\n",
       "      <td>Singco</td>\n",
       "      <td>UV Protection, Gradient Cat-eye Sunglasses (61)</td>\n",
       "      <td>₹258</td>\n",
       "    </tr>\n",
       "    <tr>\n",
       "      <th>98</th>\n",
       "      <td>ROZZETTA CRAFT</td>\n",
       "      <td>UV Protection Rectangular Sunglasses (Free Size)</td>\n",
       "      <td>₹1,019</td>\n",
       "    </tr>\n",
       "    <tr>\n",
       "      <th>99</th>\n",
       "      <td>ROYAL SON</td>\n",
       "      <td>UV Protection, Gradient, Riding Glasses Wayfar...</td>\n",
       "      <td>₹203</td>\n",
       "    </tr>\n",
       "  </tbody>\n",
       "</table>\n",
       "<p>100 rows × 3 columns</p>\n",
       "</div>"
      ],
      "text/plain": [
       "             Brand                                        Description   Price\n",
       "0           GANSTA                  UV Protection Aviator Sunglasses     ₹594\n",
       "1           GANSTA  UV Protection, Gradient Aviator Sunglasses (Fr...    ₹179\n",
       "2            NuVew  UV Protection, Mirrored, Night Vision, Riding ...    ₹188\n",
       "3        FARENHEIT                UV Protection Round Sunglasses (47)    ₹248\n",
       "4        ROYAL SON          UV Protection Rectangular Sunglasses (60)    ₹200\n",
       "..             ...                                                ...     ...\n",
       "95       ROYAL SON                  Mirrored Wayfarer Sunglasses (55)    ₹429\n",
       "96        Fastrack  Mirrored, UV Protection Aviator Sunglasses (Fr...    ₹401\n",
       "97          Singco    UV Protection, Gradient Cat-eye Sunglasses (61)    ₹258\n",
       "98  ROZZETTA CRAFT   UV Protection Rectangular Sunglasses (Free Size)  ₹1,019\n",
       "99       ROYAL SON  UV Protection, Gradient, Riding Glasses Wayfar...    ₹203\n",
       "\n",
       "[100 rows x 3 columns]"
      ]
     },
     "execution_count": 155,
     "metadata": {},
     "output_type": "execute_result"
    }
   ],
   "source": [
    "df_FlipKart[0:100]"
   ]
  },
  {
   "cell_type": "markdown",
   "metadata": {},
   "source": [
    "Q5: Scrape 100 reviews data from flipkart.com for iphone11 phone. You have to go the link: "
   ]
  },
  {
   "cell_type": "code",
   "execution_count": 156,
   "metadata": {},
   "outputs": [],
   "source": [
    "drivers.get(\"https://www.flipkart.com/apple-iphone-11-black-64-gb-includes-earpods-power-adapter/p/itm0f37c2240b217?pid=MOBFKCTSVZAXUHGR&lid=LSTMOBFKCTSVZAXUHGREPBFGI&marketplace\")"
   ]
  },
  {
   "cell_type": "code",
   "execution_count": 157,
   "metadata": {},
   "outputs": [],
   "source": [
    "#Click View Reviews Button\n",
    "Reviews_btn=drivers.find_element_by_xpath('//div[@class=\"_3UAT2v _16PBlm\"]')\n",
    "Reviews_btn.click()\n",
    "Rating= []\n",
    "Review_summary = []\n",
    "Full_Review= []"
   ]
  },
  {
   "cell_type": "code",
   "execution_count": 158,
   "metadata": {},
   "outputs": [],
   "source": [
    "import time\n",
    "j=1\n",
    "while j<=11:\n",
    "    Rating_tags=drivers.find_elements_by_xpath('//div[@class=\"_3LWZlK _1BLPMq\"]')\n",
    "    Review_tags=drivers.find_elements_by_xpath('//p[@class=\"_2-N8zT\"]')\n",
    "    FullR_tags=drivers.find_elements_by_xpath('//div[@class=\"t-ZTKy\"]')\n",
    "\n",
    "\n",
    "    for i in Rating_tags[0:9]:\n",
    "        if(i.text != None):\n",
    "            Rating.append(i.text.replace('(57)',''))   \n",
    "        else:\n",
    "            Rating.append(\"Null\")\n",
    "    for i in Review_tags[0:9]:\n",
    "         Review_summary.append(i.text)\n",
    "    for i in FullR_tags[0:9]:\n",
    "         Full_Review.append(i.text.strip().replace(\"\\n\",' '))\n",
    "    try:\n",
    "        drivers.find_elements_by_xpath('//div[@class=\"_2MImiq _1Qnn1K\"]/nav/a')[-1].click() \n",
    "        time.sleep(1)\n",
    "    except:\n",
    "        print(\"End\")\n",
    "    j+=1"
   ]
  },
  {
   "cell_type": "code",
   "execution_count": 159,
   "metadata": {},
   "outputs": [],
   "source": [
    "data= list(zip(Rating,Review_summary,Full_Review))"
   ]
  },
  {
   "cell_type": "code",
   "execution_count": 160,
   "metadata": {},
   "outputs": [],
   "source": [
    "df_Review= pd.DataFrame(data,columns=[\"Rating\",\"Review_summary\",\"Full_Review\"])"
   ]
  },
  {
   "cell_type": "code",
   "execution_count": 161,
   "metadata": {},
   "outputs": [
    {
     "data": {
      "text/html": [
       "<div>\n",
       "<style scoped>\n",
       "    .dataframe tbody tr th:only-of-type {\n",
       "        vertical-align: middle;\n",
       "    }\n",
       "\n",
       "    .dataframe tbody tr th {\n",
       "        vertical-align: top;\n",
       "    }\n",
       "\n",
       "    .dataframe thead th {\n",
       "        text-align: right;\n",
       "    }\n",
       "</style>\n",
       "<table border=\"1\" class=\"dataframe\">\n",
       "  <thead>\n",
       "    <tr style=\"text-align: right;\">\n",
       "      <th></th>\n",
       "      <th>Rating</th>\n",
       "      <th>Review_summary</th>\n",
       "      <th>Full_Review</th>\n",
       "    </tr>\n",
       "  </thead>\n",
       "  <tbody>\n",
       "    <tr>\n",
       "      <th>0</th>\n",
       "      <td>5</td>\n",
       "      <td>Brilliant</td>\n",
       "      <td>The Best Phone for the Money  The iPhone 11 of...</td>\n",
       "    </tr>\n",
       "    <tr>\n",
       "      <th>1</th>\n",
       "      <td>5</td>\n",
       "      <td>Simply awesome</td>\n",
       "      <td>Really satisfied with the Product I received.....</td>\n",
       "    </tr>\n",
       "    <tr>\n",
       "      <th>2</th>\n",
       "      <td>5</td>\n",
       "      <td>Best in the market!</td>\n",
       "      <td>Great iPhone very snappy experience as apple k...</td>\n",
       "    </tr>\n",
       "    <tr>\n",
       "      <th>3</th>\n",
       "      <td>5</td>\n",
       "      <td>Perfect product!</td>\n",
       "      <td>Amazing phone with great cameras and better ba...</td>\n",
       "    </tr>\n",
       "    <tr>\n",
       "      <th>4</th>\n",
       "      <td>5</td>\n",
       "      <td>Worth every penny</td>\n",
       "      <td>Previously I was using one plus 3t it was a gr...</td>\n",
       "    </tr>\n",
       "    <tr>\n",
       "      <th>...</th>\n",
       "      <td>...</td>\n",
       "      <td>...</td>\n",
       "      <td>...</td>\n",
       "    </tr>\n",
       "    <tr>\n",
       "      <th>94</th>\n",
       "      <td>5</td>\n",
       "      <td>Just wow!</td>\n",
       "      <td>Great iphone. I am writing this review after 2...</td>\n",
       "    </tr>\n",
       "    <tr>\n",
       "      <th>95</th>\n",
       "      <td>5</td>\n",
       "      <td>Worthless</td>\n",
       "      <td>Phone is awesome no doubt. But Camera &amp; Displa...</td>\n",
       "    </tr>\n",
       "    <tr>\n",
       "      <th>96</th>\n",
       "      <td>5</td>\n",
       "      <td>Super!</td>\n",
       "      <td>Did an upgrade from 6s plus to iphone 11. Ao f...</td>\n",
       "    </tr>\n",
       "    <tr>\n",
       "      <th>97</th>\n",
       "      <td>5</td>\n",
       "      <td>Perfect product!</td>\n",
       "      <td>It is just awesome mobile for this price from ...</td>\n",
       "    </tr>\n",
       "    <tr>\n",
       "      <th>98</th>\n",
       "      <td>4</td>\n",
       "      <td>Excellent</td>\n",
       "      <td>It was amazing experience for me. Honestly i a...</td>\n",
       "    </tr>\n",
       "  </tbody>\n",
       "</table>\n",
       "<p>99 rows × 3 columns</p>\n",
       "</div>"
      ],
      "text/plain": [
       "   Rating       Review_summary  \\\n",
       "0       5            Brilliant   \n",
       "1       5       Simply awesome   \n",
       "2       5  Best in the market!   \n",
       "3       5     Perfect product!   \n",
       "4       5    Worth every penny   \n",
       "..    ...                  ...   \n",
       "94      5            Just wow!   \n",
       "95      5            Worthless   \n",
       "96      5               Super!   \n",
       "97      5     Perfect product!   \n",
       "98      4            Excellent   \n",
       "\n",
       "                                          Full_Review  \n",
       "0   The Best Phone for the Money  The iPhone 11 of...  \n",
       "1   Really satisfied with the Product I received.....  \n",
       "2   Great iPhone very snappy experience as apple k...  \n",
       "3   Amazing phone with great cameras and better ba...  \n",
       "4   Previously I was using one plus 3t it was a gr...  \n",
       "..                                                ...  \n",
       "94  Great iphone. I am writing this review after 2...  \n",
       "95  Phone is awesome no doubt. But Camera & Displa...  \n",
       "96  Did an upgrade from 6s plus to iphone 11. Ao f...  \n",
       "97  It is just awesome mobile for this price from ...  \n",
       "98  It was amazing experience for me. Honestly i a...  \n",
       "\n",
       "[99 rows x 3 columns]"
      ]
     },
     "execution_count": 161,
     "metadata": {},
     "output_type": "execute_result"
    }
   ],
   "source": [
    "df_Review"
   ]
  },
  {
   "cell_type": "markdown",
   "metadata": {},
   "source": [
    "Q6: Scrape data for first 100 sneakers you find when you visit flipkart.com and search for “sneakers” in the \n",
    "search field. \n",
    "You have to scrape 4 attributes of each sneaker: \n",
    "1. Brand \n",
    "2. Product Description \n",
    "3. Price"
   ]
  },
  {
   "cell_type": "code",
   "execution_count": 163,
   "metadata": {},
   "outputs": [],
   "source": [
    "drivers.get(\"https://www.flipkart.com/\")"
   ]
  },
  {
   "cell_type": "code",
   "execution_count": 164,
   "metadata": {},
   "outputs": [],
   "source": [
    "#Input Search\n",
    "search_item=drivers.find_element_by_xpath('//input[@class=\"_3704LK\"]')\n",
    "search_item.send_keys(\"Sneakers\")\n",
    "\n",
    "#Click Search Button\n",
    "search_btn=drivers.find_element_by_xpath('//*[@id=\"container\"]/div/div[1]/div[1]/div[2]/div[2]/form/div/button')\n",
    "search_btn.click()"
   ]
  },
  {
   "cell_type": "code",
   "execution_count": 165,
   "metadata": {},
   "outputs": [],
   "source": [
    "Brand= []\n",
    "Description = []\n",
    "Price= []"
   ]
  },
  {
   "cell_type": "code",
   "execution_count": 170,
   "metadata": {},
   "outputs": [],
   "source": [
    "j=1\n",
    "while j<=3:\n",
    "        brand_tags=drivers.find_elements_by_xpath('//div[@class=\"_2WkVRV\"]')\n",
    "        desc_tags=drivers.find_elements_by_xpath('//a[@class=\"IRpwTa\"]')\n",
    "        price_tags=drivers.find_elements_by_xpath('//div[@class=\"_30jeq3\"]')\n",
    "\n",
    "        for i in brand_tags:\n",
    "                Brand.append(i.text)\n",
    "        for i in desc_tags:\n",
    "                Description.append(i.text.replace('(57)',''))   \n",
    "        for i in price_tags:\n",
    "             Price.append(i.text.replace('\\n',''))\n",
    "        \n",
    "        try:\n",
    "            drivers.find_elements_by_xpath('//div[@class=\"_2MImiq\"]/nav/a')[-1].click()\n",
    "            time.sleep(2)\n",
    "        except:\n",
    "            print(\"End\")\n",
    "        j+=1"
   ]
  },
  {
   "cell_type": "code",
   "execution_count": 174,
   "metadata": {},
   "outputs": [],
   "source": [
    "data= list(zip(Brand,Description,Price))"
   ]
  },
  {
   "cell_type": "code",
   "execution_count": 175,
   "metadata": {},
   "outputs": [],
   "source": [
    "df_FlipKart= pd.DataFrame(data,columns=[\"Brand\",\"Description\",\"Price\"])"
   ]
  },
  {
   "cell_type": "code",
   "execution_count": 177,
   "metadata": {},
   "outputs": [
    {
     "data": {
      "text/html": [
       "<div>\n",
       "<style scoped>\n",
       "    .dataframe tbody tr th:only-of-type {\n",
       "        vertical-align: middle;\n",
       "    }\n",
       "\n",
       "    .dataframe tbody tr th {\n",
       "        vertical-align: top;\n",
       "    }\n",
       "\n",
       "    .dataframe thead th {\n",
       "        text-align: right;\n",
       "    }\n",
       "</style>\n",
       "<table border=\"1\" class=\"dataframe\">\n",
       "  <thead>\n",
       "    <tr style=\"text-align: right;\">\n",
       "      <th></th>\n",
       "      <th>Brand</th>\n",
       "      <th>Description</th>\n",
       "      <th>Price</th>\n",
       "    </tr>\n",
       "  </thead>\n",
       "  <tbody>\n",
       "    <tr>\n",
       "      <th>0</th>\n",
       "      <td>PUMA</td>\n",
       "      <td>Puma Smash v2 SL one8 Sneakers For Men</td>\n",
       "      <td>₹1,999</td>\n",
       "    </tr>\n",
       "    <tr>\n",
       "      <th>1</th>\n",
       "      <td>NIKE</td>\n",
       "      <td>Tanjun Sneakers For Men</td>\n",
       "      <td>₹1,749</td>\n",
       "    </tr>\n",
       "    <tr>\n",
       "      <th>2</th>\n",
       "      <td>RapidBox</td>\n",
       "      <td>Unique &amp; Perfect Collection Combo Pack of 02 S...</td>\n",
       "      <td>₹680</td>\n",
       "    </tr>\n",
       "    <tr>\n",
       "      <th>3</th>\n",
       "      <td>Chevit</td>\n",
       "      <td>Combo Pack of 4 Casual Sneakers With Sneakers ...</td>\n",
       "      <td>₹420</td>\n",
       "    </tr>\n",
       "    <tr>\n",
       "      <th>4</th>\n",
       "      <td>Chevit</td>\n",
       "      <td>White Sneaker For Men Sneakers For Men</td>\n",
       "      <td>₹425</td>\n",
       "    </tr>\n",
       "    <tr>\n",
       "      <th>...</th>\n",
       "      <td>...</td>\n",
       "      <td>...</td>\n",
       "      <td>...</td>\n",
       "    </tr>\n",
       "    <tr>\n",
       "      <th>95</th>\n",
       "      <td>RED TAPE</td>\n",
       "      <td>casual for men (blue 06) Sneakers For Men</td>\n",
       "      <td>₹1,678</td>\n",
       "    </tr>\n",
       "    <tr>\n",
       "      <th>96</th>\n",
       "      <td>PUMA</td>\n",
       "      <td>516 Trendy Star Perfect Sneakers For Men</td>\n",
       "      <td>₹2,659</td>\n",
       "    </tr>\n",
       "    <tr>\n",
       "      <th>97</th>\n",
       "      <td>India hub</td>\n",
       "      <td>Sneakers For Men</td>\n",
       "      <td>₹499</td>\n",
       "    </tr>\n",
       "    <tr>\n",
       "      <th>98</th>\n",
       "      <td>BIRDE</td>\n",
       "      <td>Sneakers For Men</td>\n",
       "      <td>₹299</td>\n",
       "    </tr>\n",
       "    <tr>\n",
       "      <th>99</th>\n",
       "      <td>RED TAPE</td>\n",
       "      <td>Men's Canvas Low Top Sneakers Lace-up Classic ...</td>\n",
       "      <td>₹1,559</td>\n",
       "    </tr>\n",
       "  </tbody>\n",
       "</table>\n",
       "<p>100 rows × 3 columns</p>\n",
       "</div>"
      ],
      "text/plain": [
       "        Brand                                        Description   Price\n",
       "0        PUMA             Puma Smash v2 SL one8 Sneakers For Men  ₹1,999\n",
       "1        NIKE                            Tanjun Sneakers For Men  ₹1,749\n",
       "2    RapidBox  Unique & Perfect Collection Combo Pack of 02 S...    ₹680\n",
       "3      Chevit  Combo Pack of 4 Casual Sneakers With Sneakers ...    ₹420\n",
       "4      Chevit             White Sneaker For Men Sneakers For Men    ₹425\n",
       "..        ...                                                ...     ...\n",
       "95   RED TAPE          casual for men (blue 06) Sneakers For Men  ₹1,678\n",
       "96       PUMA           516 Trendy Star Perfect Sneakers For Men  ₹2,659\n",
       "97  India hub                                   Sneakers For Men    ₹499\n",
       "98      BIRDE                                   Sneakers For Men    ₹299\n",
       "99   RED TAPE  Men's Canvas Low Top Sneakers Lace-up Classic ...  ₹1,559\n",
       "\n",
       "[100 rows x 3 columns]"
      ]
     },
     "execution_count": 177,
     "metadata": {},
     "output_type": "execute_result"
    }
   ],
   "source": [
    "df_FlipKart[0:100]"
   ]
  },
  {
   "cell_type": "markdown",
   "metadata": {},
   "source": [
    "Q7: Go to the link - https://www.myntra.com/shoes \n",
    "Set Price filter to “Rs. 6649 to Rs. 13099” , Color filter to “Black”, as shown in the below image."
   ]
  },
  {
   "cell_type": "code",
   "execution_count": 178,
   "metadata": {},
   "outputs": [],
   "source": [
    "drivers.get(\"https://www.myntra.com/shoes\")"
   ]
  },
  {
   "cell_type": "code",
   "execution_count": 179,
   "metadata": {},
   "outputs": [],
   "source": [
    "#Click on check boxes\n",
    "check_btn=drivers.find_element_by_xpath('//*[@id=\"mountRoot\"]/div/div[1]/main/div[3]/div[1]/section/div/div[5]/ul/li[2]/label/div')\n",
    "check_btn.click()\n",
    "#clr_btn=drivers.find_element_by_xpath('//*[@id=\"mountRoot\"]/div/div[1]/main/div[3]/div[1]/section/div/div[6]/ul/li[1]/label/div')\n",
    "#clr_btn.click()"
   ]
  },
  {
   "cell_type": "code",
   "execution_count": 180,
   "metadata": {},
   "outputs": [],
   "source": [
    "#Click on check boxes\n",
    "clr_btn=drivers.find_element_by_xpath('//*[@id=\"mountRoot\"]/div/div[1]/main/div[3]/div[1]/section/div/div[6]/ul/li[1]/label/div')\n",
    "clr_btn.click()"
   ]
  },
  {
   "cell_type": "code",
   "execution_count": 182,
   "metadata": {},
   "outputs": [],
   "source": [
    "Brand= []\n",
    "Description = []\n",
    "Price= []\n",
    "Discount=[]"
   ]
  },
  {
   "cell_type": "code",
   "execution_count": 183,
   "metadata": {},
   "outputs": [],
   "source": [
    "product_url=[]\n",
    "URL=[]\n",
    "j=1\n",
    "while j<=2:\n",
    "    brand_tags=drivers.find_elements_by_xpath('//h3[@class=\"product-brand\"]')\n",
    "    desc_tags=drivers.find_elements_by_xpath('//h4[@class=\"product-product\"]')\n",
    "    \n",
    "    for i in brand_tags:\n",
    "        Brand.append(i.text)\n",
    "    for i in desc_tags:\n",
    "        Description.append(i.text)\n",
    "    product_url=drivers.find_elements_by_xpath('//a[@target=\"_blank\"]')\n",
    "    for i in product_url:\n",
    "        URL.append(i.get_attribute('href'))    \n",
    "    try:\n",
    "        drivers.find_elements_by_xpath('//ul[@class=\"pagination-container\"]/li')[-1].click() \n",
    "        time.sleep(1)\n",
    "    except:\n",
    "        print(\"End\")    \n",
    "    j+=1\n",
    "for url in URL:\n",
    "    drivers.get(url)\n",
    "    try:\n",
    "        price=drivers.find_element_by_xpath('//span[@class=\"pdp-price\"]')\n",
    "        Price.append(price.text)\n",
    "        time.sleep(1)\n",
    "    except NoSuchElementException as e:\n",
    "        Price.append(\"Price not mentioned\") \n",
    "    try:\n",
    "        disc=drivers.find_element_by_xpath('//span[@class=\"pdp-discount\"]')\n",
    "        Discount.append(disc.text)\n",
    "        time.sleep(1)\n",
    "    except NoSuchElementException as e:\n",
    "        Discount.append(\"No Discount\")\n",
    "        "
   ]
  },
  {
   "cell_type": "code",
   "execution_count": 184,
   "metadata": {},
   "outputs": [],
   "source": [
    "data= list(zip(Brand,Description,Price,Discount))"
   ]
  },
  {
   "cell_type": "code",
   "execution_count": 185,
   "metadata": {},
   "outputs": [],
   "source": [
    "df_myntra= pd.DataFrame(data,columns=[\"Brand\",\"Description\",\"Current Price\",\"Discount\"])"
   ]
  },
  {
   "cell_type": "code",
   "execution_count": 186,
   "metadata": {},
   "outputs": [
    {
     "data": {
      "text/html": [
       "<div>\n",
       "<style scoped>\n",
       "    .dataframe tbody tr th:only-of-type {\n",
       "        vertical-align: middle;\n",
       "    }\n",
       "\n",
       "    .dataframe tbody tr th {\n",
       "        vertical-align: top;\n",
       "    }\n",
       "\n",
       "    .dataframe thead th {\n",
       "        text-align: right;\n",
       "    }\n",
       "</style>\n",
       "<table border=\"1\" class=\"dataframe\">\n",
       "  <thead>\n",
       "    <tr style=\"text-align: right;\">\n",
       "      <th></th>\n",
       "      <th>Brand</th>\n",
       "      <th>Description</th>\n",
       "      <th>Current Price</th>\n",
       "      <th>Discount</th>\n",
       "    </tr>\n",
       "  </thead>\n",
       "  <tbody>\n",
       "    <tr>\n",
       "      <th>0</th>\n",
       "      <td>UNDER ARMOUR</td>\n",
       "      <td>Men HOVR Apex 2 Training</td>\n",
       "      <td>Rs. 13999</td>\n",
       "      <td>No Discount</td>\n",
       "    </tr>\n",
       "    <tr>\n",
       "      <th>1</th>\n",
       "      <td>Nike</td>\n",
       "      <td>Men Zoom Span 4 Running Shoes</td>\n",
       "      <td>Rs. 7195</td>\n",
       "      <td>No Discount</td>\n",
       "    </tr>\n",
       "    <tr>\n",
       "      <th>2</th>\n",
       "      <td>Hush Puppies</td>\n",
       "      <td>Men Solid Leather Formal Slip-Ons</td>\n",
       "      <td>Rs. 8999</td>\n",
       "      <td>No Discount</td>\n",
       "    </tr>\n",
       "    <tr>\n",
       "      <th>3</th>\n",
       "      <td>Puma</td>\n",
       "      <td>Men Deviate Nitro Running Shoe</td>\n",
       "      <td>Rs. 7499</td>\n",
       "      <td>(50% OFF)</td>\n",
       "    </tr>\n",
       "    <tr>\n",
       "      <th>4</th>\n",
       "      <td>Nike</td>\n",
       "      <td>Men FLIGHT LEGACY Sneakers</td>\n",
       "      <td>Rs. 7995</td>\n",
       "      <td>No Discount</td>\n",
       "    </tr>\n",
       "    <tr>\n",
       "      <th>...</th>\n",
       "      <td>...</td>\n",
       "      <td>...</td>\n",
       "      <td>...</td>\n",
       "      <td>...</td>\n",
       "    </tr>\n",
       "    <tr>\n",
       "      <th>95</th>\n",
       "      <td>DAVINCHI</td>\n",
       "      <td>Men Textured Formal Leather Oxfords</td>\n",
       "      <td>Rs. 7990</td>\n",
       "      <td>No Discount</td>\n",
       "    </tr>\n",
       "    <tr>\n",
       "      <th>96</th>\n",
       "      <td>Saint G</td>\n",
       "      <td>Women Leather Heeled Boots</td>\n",
       "      <td>Rs. 10710</td>\n",
       "      <td>(Rs. 1190 OFF)</td>\n",
       "    </tr>\n",
       "    <tr>\n",
       "      <th>97</th>\n",
       "      <td>Saint G</td>\n",
       "      <td>Men Leather Chelsea Boots</td>\n",
       "      <td>Rs. 10710</td>\n",
       "      <td>(Rs. 1190 OFF)</td>\n",
       "    </tr>\n",
       "    <tr>\n",
       "      <th>98</th>\n",
       "      <td>ADIDAS</td>\n",
       "      <td>Men Ultraboost X Lego Running</td>\n",
       "      <td>Rs. 13499</td>\n",
       "      <td>(25% OFF)</td>\n",
       "    </tr>\n",
       "    <tr>\n",
       "      <th>99</th>\n",
       "      <td>Pavers England</td>\n",
       "      <td>Men Leather Driving Shoes</td>\n",
       "      <td>Rs. 7499</td>\n",
       "      <td>No Discount</td>\n",
       "    </tr>\n",
       "  </tbody>\n",
       "</table>\n",
       "<p>100 rows × 4 columns</p>\n",
       "</div>"
      ],
      "text/plain": [
       "             Brand                          Description Current Price  \\\n",
       "0     UNDER ARMOUR             Men HOVR Apex 2 Training     Rs. 13999   \n",
       "1             Nike        Men Zoom Span 4 Running Shoes      Rs. 7195   \n",
       "2     Hush Puppies    Men Solid Leather Formal Slip-Ons      Rs. 8999   \n",
       "3             Puma       Men Deviate Nitro Running Shoe      Rs. 7499   \n",
       "4             Nike           Men FLIGHT LEGACY Sneakers      Rs. 7995   \n",
       "..             ...                                  ...           ...   \n",
       "95        DAVINCHI  Men Textured Formal Leather Oxfords      Rs. 7990   \n",
       "96         Saint G           Women Leather Heeled Boots     Rs. 10710   \n",
       "97         Saint G            Men Leather Chelsea Boots     Rs. 10710   \n",
       "98          ADIDAS        Men Ultraboost X Lego Running     Rs. 13499   \n",
       "99  Pavers England            Men Leather Driving Shoes      Rs. 7499   \n",
       "\n",
       "          Discount  \n",
       "0      No Discount  \n",
       "1      No Discount  \n",
       "2      No Discount  \n",
       "3        (50% OFF)  \n",
       "4      No Discount  \n",
       "..             ...  \n",
       "95     No Discount  \n",
       "96  (Rs. 1190 OFF)  \n",
       "97  (Rs. 1190 OFF)  \n",
       "98       (25% OFF)  \n",
       "99     No Discount  \n",
       "\n",
       "[100 rows x 4 columns]"
      ]
     },
     "execution_count": 186,
     "metadata": {},
     "output_type": "execute_result"
    }
   ],
   "source": [
    "df_myntra"
   ]
  },
  {
   "cell_type": "markdown",
   "metadata": {},
   "source": [
    "Q8: Go to webpage https://www.amazon.in/ \n",
    "Enter “Laptop” in the search field and then click the search icon. \n",
    "Then set CPU Type filter to “Intel Core i7” and “Intel Core i9” as shown in the below image:"
   ]
  },
  {
   "cell_type": "code",
   "execution_count": 196,
   "metadata": {},
   "outputs": [],
   "source": [
    "drivers.get(\"https://www.amazon.in/\")"
   ]
  },
  {
   "cell_type": "code",
   "execution_count": 197,
   "metadata": {},
   "outputs": [],
   "source": [
    "#Input Search\n",
    "search_item=drivers.find_element_by_xpath('//input[@id=\"twotabsearchtextbox\"]')\n",
    "search_item.send_keys(\"laptop\")\n",
    "\n",
    "#Click Search Button\n",
    "search_btn=drivers.find_element_by_xpath('//input[@id=\"nav-search-submit-button\"]')\n",
    "search_btn.click()"
   ]
  },
  {
   "cell_type": "code",
   "execution_count": 189,
   "metadata": {},
   "outputs": [],
   "source": [
    "#Filter for intel core i7\n",
    "filter_btn=drivers.find_element_by_xpath('//*[@id=\"p_n_feature_thirteen_browse-bin/12598163031\"]/span/a/div/label/i')\n",
    "filter_btn.click()"
   ]
  },
  {
   "cell_type": "code",
   "execution_count": 190,
   "metadata": {},
   "outputs": [],
   "source": [
    "Title= []\n",
    "Rating = []\n",
    "Price= []"
   ]
  },
  {
   "cell_type": "code",
   "execution_count": 191,
   "metadata": {},
   "outputs": [],
   "source": [
    "URL=[]\n",
    "product_url=[]\n",
    "title_tags=drivers.find_elements_by_xpath('//span[@class=\"a-size-medium a-color-base a-text-normal\"]')\n",
    "price_tags=drivers.find_elements_by_xpath('//span[@class=\"a-price-whole\"]')\n",
    "    \n",
    "for i in title_tags[:10]:\n",
    "    Title.append(i.text)\n",
    "for i in price_tags[:10]:\n",
    "    Price.append(i.text)\n",
    "product_url=drivers.find_elements_by_xpath('//a[@class=\"a-link-normal a-text-normal\"]')\n",
    "for i in product_url[0:10]: # product url \n",
    "    URL.append(i.get_attribute('href')) #Appending URl \n",
    "for url in URL:\n",
    "    drivers.get(url) #Opening URL\n",
    "    try:\n",
    "        rate=drivers.find_element_by_xpath('//span[@id=\"acrCustomerReviewText\"]')\n",
    "        rate.click()\n",
    "        rating=drivers.find_element_by_xpath('//span[@class=\"a-size-medium a-color-base\"]')\n",
    "        Rating.append(rating.text) # Collecting Ratings\n",
    "        \n",
    "    except NoSuchElementException as e:\n",
    "        Rating.append(\"No Rating\")         # If no rating then following will be appended "
   ]
  },
  {
   "cell_type": "code",
   "execution_count": null,
   "metadata": {},
   "outputs": [],
   "source": []
  },
  {
   "cell_type": "code",
   "execution_count": 194,
   "metadata": {},
   "outputs": [],
   "source": [
    "drivers.get(\"https://www.amazon.in/\")\n",
    "#Input Search\n",
    "search_item=drivers.find_element_by_xpath('//input[@id=\"twotabsearchtextbox\"]')\n",
    "search_item.send_keys(\"laptop\")\n",
    "\n",
    "#Click Search Button\n",
    "search_btn=drivers.find_element_by_xpath('//input[@id=\"nav-search-submit-button\"]')\n",
    "search_btn.click()"
   ]
  },
  {
   "cell_type": "code",
   "execution_count": 198,
   "metadata": {},
   "outputs": [],
   "source": [
    "#Filter for intel core i9\n",
    "filter_btn2=drivers.find_element_by_xpath('//*[@id=\"p_n_feature_thirteen_browse-bin/16757432031\"]/span/a/div/label/i')\n",
    "filter_btn2.click()"
   ]
  },
  {
   "cell_type": "code",
   "execution_count": 199,
   "metadata": {},
   "outputs": [],
   "source": [
    "URL=[]\n",
    "product_url=[]\n",
    "title_tags=drivers.find_elements_by_xpath('//span[@class=\"a-size-medium a-color-base a-text-normal\"]')\n",
    "price_tags=drivers.find_elements_by_xpath('//span[@class=\"a-price-whole\"]')\n",
    "    \n",
    "for i in title_tags[:10]:\n",
    "    Title.append(i.text)\n",
    "for i in price_tags[:10]:\n",
    "    Price.append(i.text)\n",
    "product_url=drivers.find_elements_by_xpath('//a[@class=\"a-link-normal a-text-normal\"]')\n",
    "for i in product_url[0:10]:\n",
    "    URL.append(i.get_attribute('href'))\n",
    "for url in URL:\n",
    "    drivers.get(url)\n",
    "    try:\n",
    "        rate=drivers.find_element_by_xpath('//span[@id=\"acrCustomerReviewText\"]')\n",
    "        rate.click()\n",
    "        rating=drivers.find_element_by_xpath('//span[@class=\"a-size-medium a-color-base\"]')\n",
    "        Rating.append(rating.text)\n",
    "        \n",
    "    except NoSuchElementException as e:\n",
    "        Rating.append(\"No Rating\") "
   ]
  },
  {
   "cell_type": "code",
   "execution_count": 205,
   "metadata": {},
   "outputs": [
    {
     "data": {
      "text/html": [
       "<div>\n",
       "<style scoped>\n",
       "    .dataframe tbody tr th:only-of-type {\n",
       "        vertical-align: middle;\n",
       "    }\n",
       "\n",
       "    .dataframe tbody tr th {\n",
       "        vertical-align: top;\n",
       "    }\n",
       "\n",
       "    .dataframe thead th {\n",
       "        text-align: right;\n",
       "    }\n",
       "</style>\n",
       "<table border=\"1\" class=\"dataframe\">\n",
       "  <thead>\n",
       "    <tr style=\"text-align: right;\">\n",
       "      <th></th>\n",
       "      <th>Title</th>\n",
       "      <th>Price</th>\n",
       "      <th>Rating</th>\n",
       "      <th>URL</th>\n",
       "    </tr>\n",
       "  </thead>\n",
       "  <tbody>\n",
       "    <tr>\n",
       "      <th>0</th>\n",
       "      <td>UNDER ARMOUR</td>\n",
       "      <td>Men HOVR Apex 2 Training</td>\n",
       "      <td>Rs. 13999</td>\n",
       "      <td>No Discount</td>\n",
       "    </tr>\n",
       "    <tr>\n",
       "      <th>1</th>\n",
       "      <td>Nike</td>\n",
       "      <td>Men Zoom Span 4 Running Shoes</td>\n",
       "      <td>Rs. 7195</td>\n",
       "      <td>No Discount</td>\n",
       "    </tr>\n",
       "    <tr>\n",
       "      <th>2</th>\n",
       "      <td>Hush Puppies</td>\n",
       "      <td>Men Solid Leather Formal Slip-Ons</td>\n",
       "      <td>Rs. 8999</td>\n",
       "      <td>No Discount</td>\n",
       "    </tr>\n",
       "    <tr>\n",
       "      <th>3</th>\n",
       "      <td>Puma</td>\n",
       "      <td>Men Deviate Nitro Running Shoe</td>\n",
       "      <td>Rs. 7499</td>\n",
       "      <td>(50% OFF)</td>\n",
       "    </tr>\n",
       "    <tr>\n",
       "      <th>4</th>\n",
       "      <td>Nike</td>\n",
       "      <td>Men FLIGHT LEGACY Sneakers</td>\n",
       "      <td>Rs. 7995</td>\n",
       "      <td>No Discount</td>\n",
       "    </tr>\n",
       "    <tr>\n",
       "      <th>...</th>\n",
       "      <td>...</td>\n",
       "      <td>...</td>\n",
       "      <td>...</td>\n",
       "      <td>...</td>\n",
       "    </tr>\n",
       "    <tr>\n",
       "      <th>95</th>\n",
       "      <td>DAVINCHI</td>\n",
       "      <td>Men Textured Formal Leather Oxfords</td>\n",
       "      <td>Rs. 7990</td>\n",
       "      <td>No Discount</td>\n",
       "    </tr>\n",
       "    <tr>\n",
       "      <th>96</th>\n",
       "      <td>Saint G</td>\n",
       "      <td>Women Leather Heeled Boots</td>\n",
       "      <td>Rs. 10710</td>\n",
       "      <td>(Rs. 1190 OFF)</td>\n",
       "    </tr>\n",
       "    <tr>\n",
       "      <th>97</th>\n",
       "      <td>Saint G</td>\n",
       "      <td>Men Leather Chelsea Boots</td>\n",
       "      <td>Rs. 10710</td>\n",
       "      <td>(Rs. 1190 OFF)</td>\n",
       "    </tr>\n",
       "    <tr>\n",
       "      <th>98</th>\n",
       "      <td>ADIDAS</td>\n",
       "      <td>Men Ultraboost X Lego Running</td>\n",
       "      <td>Rs. 13499</td>\n",
       "      <td>(25% OFF)</td>\n",
       "    </tr>\n",
       "    <tr>\n",
       "      <th>99</th>\n",
       "      <td>Pavers England</td>\n",
       "      <td>Men Leather Driving Shoes</td>\n",
       "      <td>Rs. 7499</td>\n",
       "      <td>No Discount</td>\n",
       "    </tr>\n",
       "  </tbody>\n",
       "</table>\n",
       "<p>100 rows × 4 columns</p>\n",
       "</div>"
      ],
      "text/plain": [
       "             Title                                Price     Rating  \\\n",
       "0     UNDER ARMOUR             Men HOVR Apex 2 Training  Rs. 13999   \n",
       "1             Nike        Men Zoom Span 4 Running Shoes   Rs. 7195   \n",
       "2     Hush Puppies    Men Solid Leather Formal Slip-Ons   Rs. 8999   \n",
       "3             Puma       Men Deviate Nitro Running Shoe   Rs. 7499   \n",
       "4             Nike           Men FLIGHT LEGACY Sneakers   Rs. 7995   \n",
       "..             ...                                  ...        ...   \n",
       "95        DAVINCHI  Men Textured Formal Leather Oxfords   Rs. 7990   \n",
       "96         Saint G           Women Leather Heeled Boots  Rs. 10710   \n",
       "97         Saint G            Men Leather Chelsea Boots  Rs. 10710   \n",
       "98          ADIDAS        Men Ultraboost X Lego Running  Rs. 13499   \n",
       "99  Pavers England            Men Leather Driving Shoes   Rs. 7499   \n",
       "\n",
       "               URL  \n",
       "0      No Discount  \n",
       "1      No Discount  \n",
       "2      No Discount  \n",
       "3        (50% OFF)  \n",
       "4      No Discount  \n",
       "..             ...  \n",
       "95     No Discount  \n",
       "96  (Rs. 1190 OFF)  \n",
       "97  (Rs. 1190 OFF)  \n",
       "98       (25% OFF)  \n",
       "99     No Discount  \n",
       "\n",
       "[100 rows x 4 columns]"
      ]
     },
     "execution_count": 205,
     "metadata": {},
     "output_type": "execute_result"
    }
   ],
   "source": [
    "df_amazon= pd.DataFrame(data,columns=[\"Title\",\"Price\",\"Rating\",\"URL\"])\n",
    "df_amazon"
   ]
  },
  {
   "cell_type": "markdown",
   "metadata": {},
   "source": [
    "Q9: Write a python program to scrape data for first 10 job results for Data Scientist Designation in Noida \n",
    "location. You have to scrape company name, No. of days ago when job was posted, Rating of the company. \n",
    "This task will be done in following steps:"
   ]
  },
  {
   "cell_type": "code",
   "execution_count": 264,
   "metadata": {},
   "outputs": [],
   "source": [
    "drivers.get(\"https://www.ambitionbox.com/\")"
   ]
  },
  {
   "cell_type": "code",
   "execution_count": 265,
   "metadata": {},
   "outputs": [],
   "source": [
    "search_btn=drivers.find_element_by_link_text(\"Jobs\")\n",
    "search_btn.click()"
   ]
  },
  {
   "cell_type": "code",
   "execution_count": 266,
   "metadata": {},
   "outputs": [],
   "source": [
    "search_job=drivers.find_element_by_xpath('//input[@title=\"Enter Designation, Company or a Skill\"]')\n",
    "search_job.send_keys(\"Data Scientist\")"
   ]
  },
  {
   "cell_type": "code",
   "execution_count": 271,
   "metadata": {},
   "outputs": [],
   "source": [
    "search_btn=drivers.find_element_by_xpath('//*[@class=\"ab_btn search-btn round\"]')\n",
    "search_btn.click()"
   ]
  },
  {
   "cell_type": "code",
   "execution_count": 275,
   "metadata": {},
   "outputs": [],
   "source": [
    "search_loc=drivers.find_element_by_xpath('//div[@title=\"Location\"]')\n",
    "search_loc.click()"
   ]
  },
  {
   "cell_type": "code",
   "execution_count": 276,
   "metadata": {},
   "outputs": [],
   "source": [
    "search_btn=drivers.find_element_by_xpath('//label[@for=\"location_Noida\"]')\n",
    "search_btn.click()"
   ]
  },
  {
   "cell_type": "code",
   "execution_count": 320,
   "metadata": {},
   "outputs": [],
   "source": [
    "Company_name= []\n",
    "daysago_jobposted = []\n",
    "Rating= []"
   ]
  },
  {
   "cell_type": "code",
   "execution_count": 331,
   "metadata": {},
   "outputs": [
    {
     "data": {
      "text/plain": [
       "['Ericsson India Global Services Pvt. Ltd.',\n",
       " 'LG Electronics India Pvt. Ltd.',\n",
       " 'GENPACT India Private Limited',\n",
       " 'GENPACT India Private Limited',\n",
       " 'NTT Data Business Solutions Pvt Ltd',\n",
       " 'GENPACT India Private Limited',\n",
       " 'GI Group',\n",
       " 'GI Group',\n",
       " 'GI Group',\n",
       " 'Steria India Ltd']"
      ]
     },
     "execution_count": 331,
     "metadata": {},
     "output_type": "execute_result"
    }
   ],
   "source": [
    "company_tags=drivers.find_elements_by_xpath(\"//p[@class='company body-medium']\")\n",
    "\n",
    "for i in company_tags:\n",
    "    Company_name.append(i.text.replace('\\n','')) \n",
    "#     Company_name=str(Company_name)\n",
    "#     Company_name=Company_name.strip('')\n",
    "# Company_name=Company_name[22:]\n",
    "Company_name=Company_name[0:10]\n",
    "Company_name"
   ]
  },
  {
   "cell_type": "code",
   "execution_count": 335,
   "metadata": {},
   "outputs": [
    {
     "data": {
      "text/plain": [
       "['3d ago',\n",
       " '2d ago',\n",
       " '8d ago',\n",
       " '9d ago',\n",
       " '10d ago',\n",
       " '10d ago',\n",
       " '3d ago',\n",
       " '3d ago',\n",
       " '6d ago',\n",
       " '1mon ago']"
      ]
     },
     "execution_count": 335,
     "metadata": {},
     "output_type": "execute_result"
    }
   ],
   "source": [
    "desc_tags=drivers.find_elements_by_xpath('//span[@class=\"body-small-l\"]')\n",
    "for i in desc_tags:\n",
    "    daysago_jobposted.append(i.text)\n",
    "# daysago_jobposted[0:20:2]\n",
    "daysago_jobposted=daysago_jobposted[0:20:2]\n",
    "daysago_jobposted"
   ]
  },
  {
   "cell_type": "code",
   "execution_count": 336,
   "metadata": {},
   "outputs": [
    {
     "data": {
      "text/plain": [
       "['4.2', '4.1', '4.0', '4.0', '3.8', '4.0', '4.0', '4.0', '4.0', '4.1']"
      ]
     },
     "execution_count": 336,
     "metadata": {},
     "output_type": "execute_result"
    }
   ],
   "source": [
    "rate_tags=drivers.find_elements_by_xpath('//span[@class=\"body-small\"]')\n",
    "for i in rate_tags:\n",
    "    Rating.append(i.text)\n",
    "Rating"
   ]
  },
  {
   "cell_type": "code",
   "execution_count": 337,
   "metadata": {},
   "outputs": [],
   "source": [
    "data= list(zip(Company_name,daysago_jobposted,Rating))"
   ]
  },
  {
   "cell_type": "code",
   "execution_count": 338,
   "metadata": {},
   "outputs": [],
   "source": [
    "df_AB= pd.DataFrame(data,columns=[\"Company_name\",\"daysago_jobposted\",\"Rating\"])"
   ]
  },
  {
   "cell_type": "code",
   "execution_count": 339,
   "metadata": {},
   "outputs": [
    {
     "data": {
      "text/html": [
       "<div>\n",
       "<style scoped>\n",
       "    .dataframe tbody tr th:only-of-type {\n",
       "        vertical-align: middle;\n",
       "    }\n",
       "\n",
       "    .dataframe tbody tr th {\n",
       "        vertical-align: top;\n",
       "    }\n",
       "\n",
       "    .dataframe thead th {\n",
       "        text-align: right;\n",
       "    }\n",
       "</style>\n",
       "<table border=\"1\" class=\"dataframe\">\n",
       "  <thead>\n",
       "    <tr style=\"text-align: right;\">\n",
       "      <th></th>\n",
       "      <th>Company_name</th>\n",
       "      <th>daysago_jobposted</th>\n",
       "      <th>Rating</th>\n",
       "    </tr>\n",
       "  </thead>\n",
       "  <tbody>\n",
       "    <tr>\n",
       "      <th>0</th>\n",
       "      <td>Ericsson India Global Services Pvt. Ltd.</td>\n",
       "      <td>3d ago</td>\n",
       "      <td>4.2</td>\n",
       "    </tr>\n",
       "    <tr>\n",
       "      <th>1</th>\n",
       "      <td>LG Electronics India Pvt. Ltd.</td>\n",
       "      <td>2d ago</td>\n",
       "      <td>4.1</td>\n",
       "    </tr>\n",
       "    <tr>\n",
       "      <th>2</th>\n",
       "      <td>GENPACT India Private Limited</td>\n",
       "      <td>8d ago</td>\n",
       "      <td>4.0</td>\n",
       "    </tr>\n",
       "    <tr>\n",
       "      <th>3</th>\n",
       "      <td>GENPACT India Private Limited</td>\n",
       "      <td>9d ago</td>\n",
       "      <td>4.0</td>\n",
       "    </tr>\n",
       "    <tr>\n",
       "      <th>4</th>\n",
       "      <td>NTT Data Business Solutions Pvt Ltd</td>\n",
       "      <td>10d ago</td>\n",
       "      <td>3.8</td>\n",
       "    </tr>\n",
       "    <tr>\n",
       "      <th>5</th>\n",
       "      <td>GENPACT India Private Limited</td>\n",
       "      <td>10d ago</td>\n",
       "      <td>4.0</td>\n",
       "    </tr>\n",
       "    <tr>\n",
       "      <th>6</th>\n",
       "      <td>GI Group</td>\n",
       "      <td>3d ago</td>\n",
       "      <td>4.0</td>\n",
       "    </tr>\n",
       "    <tr>\n",
       "      <th>7</th>\n",
       "      <td>GI Group</td>\n",
       "      <td>3d ago</td>\n",
       "      <td>4.0</td>\n",
       "    </tr>\n",
       "    <tr>\n",
       "      <th>8</th>\n",
       "      <td>GI Group</td>\n",
       "      <td>6d ago</td>\n",
       "      <td>4.0</td>\n",
       "    </tr>\n",
       "    <tr>\n",
       "      <th>9</th>\n",
       "      <td>Steria India Ltd</td>\n",
       "      <td>1mon ago</td>\n",
       "      <td>4.1</td>\n",
       "    </tr>\n",
       "  </tbody>\n",
       "</table>\n",
       "</div>"
      ],
      "text/plain": [
       "                               Company_name daysago_jobposted Rating\n",
       "0  Ericsson India Global Services Pvt. Ltd.            3d ago    4.2\n",
       "1            LG Electronics India Pvt. Ltd.            2d ago    4.1\n",
       "2             GENPACT India Private Limited            8d ago    4.0\n",
       "3             GENPACT India Private Limited            9d ago    4.0\n",
       "4       NTT Data Business Solutions Pvt Ltd           10d ago    3.8\n",
       "5             GENPACT India Private Limited           10d ago    4.0\n",
       "6                                  GI Group            3d ago    4.0\n",
       "7                                  GI Group            3d ago    4.0\n",
       "8                                  GI Group            6d ago    4.0\n",
       "9                          Steria India Ltd          1mon ago    4.1"
      ]
     },
     "execution_count": 339,
     "metadata": {},
     "output_type": "execute_result"
    }
   ],
   "source": [
    "df_AB"
   ]
  },
  {
   "cell_type": "markdown",
   "metadata": {},
   "source": [
    "Q10: Write a python program to scrape the salary data for Data Scientist designation. \n",
    "You have to scrape Company name, Number of salaries, Average salary, Min salary, Max Salary. "
   ]
  },
  {
   "cell_type": "code",
   "execution_count": 340,
   "metadata": {},
   "outputs": [],
   "source": [
    "drivers.get(\"https://www.ambitionbox.com/\")"
   ]
  },
  {
   "cell_type": "code",
   "execution_count": 342,
   "metadata": {},
   "outputs": [],
   "source": [
    "search_btn=drivers.find_element_by_link_text(\"Salaries\")\n",
    "search_btn.click()"
   ]
  },
  {
   "cell_type": "code",
   "execution_count": 346,
   "metadata": {},
   "outputs": [],
   "source": [
    "search_job=drivers.find_element_by_xpath('//input[@placeholder=\"Search by Company or Designation\"]')\n",
    "search_job.send_keys(\"Data Scientist\")"
   ]
  },
  {
   "cell_type": "code",
   "execution_count": 347,
   "metadata": {},
   "outputs": [],
   "source": [
    "search_btn=drivers.find_element_by_xpath('//*[@class=\"ab_btn search-btn round\"]')\n",
    "search_btn.click()"
   ]
  },
  {
   "cell_type": "code",
   "execution_count": 414,
   "metadata": {},
   "outputs": [],
   "source": [
    "Company_name= []\n",
    "Total_sal= []\n",
    "avg_sal=[]\n",
    "min_sal=[]\n",
    "max_sal=[]\n",
    "exp_req= []"
   ]
  },
  {
   "cell_type": "code",
   "execution_count": null,
   "metadata": {},
   "outputs": [],
   "source": [
    "company_tags=drivers.find_elements_by_xpath(\"//a[@title]\")\n",
    "\n",
    "for i in company_tags:\n",
    "    Company_name.append(i.text.replace('\\n','')) \n",
    "Company_name=Company_name[16:]\n",
    "Company_name"
   ]
  },
  {
   "cell_type": "code",
   "execution_count": 364,
   "metadata": {},
   "outputs": [
    {
     "data": {
      "text/plain": [
       "['Tekion',\n",
       " 'Microsoft Corporation',\n",
       " 'Goldman Sachs',\n",
       " 'Flipkart',\n",
       " 'Amazon',\n",
       " 'Arcesium',\n",
       " 'Servicenow Software Development India',\n",
       " 'ServiceNow',\n",
       " 'Walmart',\n",
       " 'PayPal']"
      ]
     },
     "execution_count": 364,
     "metadata": {},
     "output_type": "execute_result"
    }
   ],
   "source": [
    "Company_name=Company_name[0:10]\n",
    "Company_name"
   ]
  },
  {
   "cell_type": "code",
   "execution_count": 365,
   "metadata": {},
   "outputs": [],
   "source": [
    "sal_tags=drivers.find_elements_by_xpath(\"//span[@data-v-2bae05f7]\")"
   ]
  },
  {
   "cell_type": "code",
   "execution_count": 388,
   "metadata": {},
   "outputs": [
    {
     "data": {
      "text/plain": [
       "['based on 10 salaries',\n",
       " 'based on 11 salaries',\n",
       " 'based on 80 salaries',\n",
       " 'based on 27 salaries',\n",
       " 'based on 77 salaries',\n",
       " 'based on 10 salaries',\n",
       " 'based on 218 salaries',\n",
       " 'based on 11 salaries',\n",
       " 'based on 53 salaries',\n",
       " 'based on 80 salaries']"
      ]
     },
     "execution_count": 388,
     "metadata": {},
     "output_type": "execute_result"
    }
   ],
   "source": [
    "for i in sal_tags:\n",
    "    Total_sal.append(i.text.replace('\\n','')) \n",
    "Total_sal=Total_sal[0:20:2]\n",
    "Total_sal"
   ]
  },
  {
   "cell_type": "code",
   "execution_count": 373,
   "metadata": {},
   "outputs": [
    {
     "data": {
      "text/plain": [
       "['₹ 23.3L',\n",
       " '₹ 22.4L',\n",
       " '₹ 21.9L',\n",
       " '₹ 20.6L',\n",
       " '₹ 19.1L',\n",
       " '₹ 18.4L',\n",
       " '₹ 18.2L',\n",
       " '₹ 18.2L',\n",
       " '₹ 17.9L',\n",
       " '₹ 17.6L']"
      ]
     },
     "execution_count": 373,
     "metadata": {},
     "output_type": "execute_result"
    }
   ],
   "source": [
    "avgsal_tags=drivers.find_elements_by_xpath(\"//p[@class='averageCtc']\")\n",
    "for i in avgsal_tags:\n",
    "    avg_sal.append(i.text) \n",
    "avg_sal"
   ]
  },
  {
   "cell_type": "code",
   "execution_count": 376,
   "metadata": {},
   "outputs": [
    {
     "data": {
      "text/plain": [
       "['₹ 14.0L',\n",
       " '₹ 12.0L',\n",
       " '₹ 16.0L',\n",
       " '₹ 7.0L',\n",
       " '₹ 8.0L',\n",
       " '₹ 12.0L',\n",
       " '₹ 12.0L',\n",
       " '₹ 12.7L',\n",
       " '₹ 10.0L',\n",
       " '₹ 12.0L']"
      ]
     },
     "execution_count": 376,
     "metadata": {},
     "output_type": "execute_result"
    }
   ],
   "source": [
    "minsal_tags=drivers.find_elements_by_xpath(\"//div[@class='value body-medium']\")\n",
    "for i in minsal_tags:\n",
    "    min_sal.append(i.text) \n",
    "min_sal=min_sal[0:20:2]\n",
    "min_sal"
   ]
  },
  {
   "cell_type": "code",
   "execution_count": 377,
   "metadata": {},
   "outputs": [
    {
     "data": {
      "text/plain": [
       "['₹ 32.0L',\n",
       " '₹ 45.0L',\n",
       " '₹ 30.0L',\n",
       " '₹ 30.0L',\n",
       " '₹ 40.0L',\n",
       " '₹ 30.0L',\n",
       " '₹ 25.0L',\n",
       " '₹ 23.0L',\n",
       " '₹ 32.0L',\n",
       " '₹ 23.0L']"
      ]
     },
     "execution_count": 377,
     "metadata": {},
     "output_type": "execute_result"
    }
   ],
   "source": [
    "maxsal_tags=drivers.find_elements_by_xpath(\"//div[@class='value body-medium']\")\n",
    "for i in maxsal_tags:\n",
    "    max_sal.append(i.text) \n",
    "max_sal=max_sal[1:20:2]\n",
    "max_sal"
   ]
  },
  {
   "cell_type": "code",
   "execution_count": 415,
   "metadata": {},
   "outputs": [
    {
     "data": {
      "text/plain": [
       "['Software Engineer . 4 yrs exp',\n",
       " 'Software Engineer . 1-4 yrs exp',\n",
       " 'Software Engineer . 2 yrs exp',\n",
       " 'Software Engineer . 1-4 yrs exp',\n",
       " 'Software Engineer . 1-4 yrs exp',\n",
       " 'Software Engineer . 1 yr exp',\n",
       " 'Software Engineer . 2-3 yrs exp',\n",
       " 'Software Engineer . 3 yrs exp',\n",
       " 'Software Engineer . 1-4 yrs exp',\n",
       " 'Software Engineer . 1 yr exp']"
      ]
     },
     "execution_count": 415,
     "metadata": {},
     "output_type": "execute_result"
    }
   ],
   "source": [
    "exp_tags=drivers.find_elements_by_xpath(\"//div[@class='salaries sbold-list-header']\")\n",
    "for i in exp_tags:\n",
    "    exp_req.append(i.text.replace('\\n','')) \n",
    "exp_req"
   ]
  },
  {
   "cell_type": "code",
   "execution_count": 389,
   "metadata": {},
   "outputs": [],
   "source": [
    "data= list(zip(Company_name,Total_sal,avg_sal,min_sal,max_sal,exp_req))"
   ]
  },
  {
   "cell_type": "code",
   "execution_count": 390,
   "metadata": {},
   "outputs": [],
   "source": [
    "df_AB=pd.DataFrame(data,columns=[\"Company_name\",\"Total_sal\",\"avg_sal\",\"min_sal\",\"max_sal\",\"exp_req\"])"
   ]
  },
  {
   "cell_type": "code",
   "execution_count": 391,
   "metadata": {},
   "outputs": [
    {
     "data": {
      "text/html": [
       "<div>\n",
       "<style scoped>\n",
       "    .dataframe tbody tr th:only-of-type {\n",
       "        vertical-align: middle;\n",
       "    }\n",
       "\n",
       "    .dataframe tbody tr th {\n",
       "        vertical-align: top;\n",
       "    }\n",
       "\n",
       "    .dataframe thead th {\n",
       "        text-align: right;\n",
       "    }\n",
       "</style>\n",
       "<table border=\"1\" class=\"dataframe\">\n",
       "  <thead>\n",
       "    <tr style=\"text-align: right;\">\n",
       "      <th></th>\n",
       "      <th>Company_name</th>\n",
       "      <th>Total_sal</th>\n",
       "      <th>avg_sal</th>\n",
       "      <th>min_sal</th>\n",
       "      <th>max_sal</th>\n",
       "      <th>exp_req</th>\n",
       "    </tr>\n",
       "  </thead>\n",
       "  <tbody>\n",
       "    <tr>\n",
       "      <th>0</th>\n",
       "      <td>Tekion</td>\n",
       "      <td>based on 10 salaries</td>\n",
       "      <td>₹ 23.3L</td>\n",
       "      <td>₹ 14.0L</td>\n",
       "      <td>₹ 32.0L</td>\n",
       "      <td>Software Engineer . 4 yrs exp</td>\n",
       "    </tr>\n",
       "    <tr>\n",
       "      <th>1</th>\n",
       "      <td>Microsoft Corporation</td>\n",
       "      <td>based on 11 salaries</td>\n",
       "      <td>₹ 22.4L</td>\n",
       "      <td>₹ 12.0L</td>\n",
       "      <td>₹ 45.0L</td>\n",
       "      <td>Software Engineer . 1-4 yrs exp</td>\n",
       "    </tr>\n",
       "    <tr>\n",
       "      <th>2</th>\n",
       "      <td>Goldman Sachs</td>\n",
       "      <td>based on 80 salaries</td>\n",
       "      <td>₹ 21.9L</td>\n",
       "      <td>₹ 16.0L</td>\n",
       "      <td>₹ 30.0L</td>\n",
       "      <td>Software Engineer . 2 yrs exp</td>\n",
       "    </tr>\n",
       "    <tr>\n",
       "      <th>3</th>\n",
       "      <td>Flipkart</td>\n",
       "      <td>based on 27 salaries</td>\n",
       "      <td>₹ 20.6L</td>\n",
       "      <td>₹ 7.0L</td>\n",
       "      <td>₹ 30.0L</td>\n",
       "      <td>Software Engineer . 1-4 yrs exp</td>\n",
       "    </tr>\n",
       "    <tr>\n",
       "      <th>4</th>\n",
       "      <td>Amazon</td>\n",
       "      <td>based on 77 salaries</td>\n",
       "      <td>₹ 19.1L</td>\n",
       "      <td>₹ 8.0L</td>\n",
       "      <td>₹ 40.0L</td>\n",
       "      <td>Software Engineer . 1-4 yrs exp</td>\n",
       "    </tr>\n",
       "    <tr>\n",
       "      <th>5</th>\n",
       "      <td>Arcesium</td>\n",
       "      <td>based on 10 salaries</td>\n",
       "      <td>₹ 18.4L</td>\n",
       "      <td>₹ 12.0L</td>\n",
       "      <td>₹ 30.0L</td>\n",
       "      <td>Software Engineer . 1 yr exp</td>\n",
       "    </tr>\n",
       "    <tr>\n",
       "      <th>6</th>\n",
       "      <td>Servicenow Software Development India</td>\n",
       "      <td>based on 218 salaries</td>\n",
       "      <td>₹ 18.2L</td>\n",
       "      <td>₹ 12.0L</td>\n",
       "      <td>₹ 25.0L</td>\n",
       "      <td>Software Engineer . 2-3 yrs exp</td>\n",
       "    </tr>\n",
       "    <tr>\n",
       "      <th>7</th>\n",
       "      <td>ServiceNow</td>\n",
       "      <td>based on 11 salaries</td>\n",
       "      <td>₹ 18.2L</td>\n",
       "      <td>₹ 12.7L</td>\n",
       "      <td>₹ 23.0L</td>\n",
       "      <td>Software Engineer . 3 yrs exp</td>\n",
       "    </tr>\n",
       "    <tr>\n",
       "      <th>8</th>\n",
       "      <td>Walmart</td>\n",
       "      <td>based on 53 salaries</td>\n",
       "      <td>₹ 17.9L</td>\n",
       "      <td>₹ 10.0L</td>\n",
       "      <td>₹ 32.0L</td>\n",
       "      <td>Software Engineer . 1-4 yrs exp</td>\n",
       "    </tr>\n",
       "    <tr>\n",
       "      <th>9</th>\n",
       "      <td>PayPal</td>\n",
       "      <td>based on 80 salaries</td>\n",
       "      <td>₹ 17.6L</td>\n",
       "      <td>₹ 12.0L</td>\n",
       "      <td>₹ 23.0L</td>\n",
       "      <td>Software Engineer . 1 yr exp</td>\n",
       "    </tr>\n",
       "  </tbody>\n",
       "</table>\n",
       "</div>"
      ],
      "text/plain": [
       "                            Company_name              Total_sal  avg_sal  \\\n",
       "0                                 Tekion   based on 10 salaries  ₹ 23.3L   \n",
       "1                  Microsoft Corporation   based on 11 salaries  ₹ 22.4L   \n",
       "2                          Goldman Sachs   based on 80 salaries  ₹ 21.9L   \n",
       "3                               Flipkart   based on 27 salaries  ₹ 20.6L   \n",
       "4                                 Amazon   based on 77 salaries  ₹ 19.1L   \n",
       "5                               Arcesium   based on 10 salaries  ₹ 18.4L   \n",
       "6  Servicenow Software Development India  based on 218 salaries  ₹ 18.2L   \n",
       "7                             ServiceNow   based on 11 salaries  ₹ 18.2L   \n",
       "8                                Walmart   based on 53 salaries  ₹ 17.9L   \n",
       "9                                 PayPal   based on 80 salaries  ₹ 17.6L   \n",
       "\n",
       "   min_sal  max_sal                          exp_req  \n",
       "0  ₹ 14.0L  ₹ 32.0L    Software Engineer . 4 yrs exp  \n",
       "1  ₹ 12.0L  ₹ 45.0L  Software Engineer . 1-4 yrs exp  \n",
       "2  ₹ 16.0L  ₹ 30.0L    Software Engineer . 2 yrs exp  \n",
       "3   ₹ 7.0L  ₹ 30.0L  Software Engineer . 1-4 yrs exp  \n",
       "4   ₹ 8.0L  ₹ 40.0L  Software Engineer . 1-4 yrs exp  \n",
       "5  ₹ 12.0L  ₹ 30.0L     Software Engineer . 1 yr exp  \n",
       "6  ₹ 12.0L  ₹ 25.0L  Software Engineer . 2-3 yrs exp  \n",
       "7  ₹ 12.7L  ₹ 23.0L    Software Engineer . 3 yrs exp  \n",
       "8  ₹ 10.0L  ₹ 32.0L  Software Engineer . 1-4 yrs exp  \n",
       "9  ₹ 12.0L  ₹ 23.0L     Software Engineer . 1 yr exp  "
      ]
     },
     "execution_count": 391,
     "metadata": {},
     "output_type": "execute_result"
    }
   ],
   "source": [
    "df_AB"
   ]
  },
  {
   "cell_type": "code",
   "execution_count": null,
   "metadata": {},
   "outputs": [],
   "source": []
  },
  {
   "cell_type": "code",
   "execution_count": null,
   "metadata": {},
   "outputs": [],
   "source": []
  }
 ],
 "metadata": {
  "kernelspec": {
   "display_name": "Python 3",
   "language": "python",
   "name": "python3"
  },
  "language_info": {
   "codemirror_mode": {
    "name": "ipython",
    "version": 3
   },
   "file_extension": ".py",
   "mimetype": "text/x-python",
   "name": "python",
   "nbconvert_exporter": "python",
   "pygments_lexer": "ipython3",
   "version": "3.8.3"
  }
 },
 "nbformat": 4,
 "nbformat_minor": 4
}
